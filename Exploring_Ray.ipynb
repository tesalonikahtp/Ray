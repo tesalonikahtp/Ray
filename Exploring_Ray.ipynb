{
  "nbformat": 4,
  "nbformat_minor": 0,
  "metadata": {
    "colab": {
      "provenance": [],
      "gpuType": "T4",
      "collapsed_sections": [
        "oQ2_jgRQKqIH",
        "CnXEHtm4T005",
        "QKfs84wMU15O",
        "bEoMA8gY7GIr",
        "lbK_KyT26mq9",
        "DvKQniqDbESM",
        "UoRjU5v-wugQ",
        "b8SOJD9ZVoI_"
      ]
    },
    "kernelspec": {
      "name": "python3",
      "display_name": "Python 3"
    },
    "language_info": {
      "name": "python"
    },
    "accelerator": "GPU"
  },
  "cells": [
    {
      "cell_type": "markdown",
      "source": [
        "### Implementing Ray for Hyperparameter Tuning and Model Comparison"
      ],
      "metadata": {
        "id": "ZkcCgoyeQ98d"
      }
    },
    {
      "cell_type": "markdown",
      "source": [
        "### Introduction\n",
        "\n",
        "<div class=\"alert alert-info\">\n",
        "  <strong><a href=\"https://www.ray.io/\" target=\"_blank\">Ray</a></strong> is a powerful distributed computing framework designed for scalable and efficient execution of Python applications across clusters. It simplifies the development of distributed systems by automating orchestration, scheduling, fault tolerance, and resource management.\n",
        "</div>\n",
        "\n",
        "\n",
        "### Key Points:\n",
        "\n",
        "\n",
        "*   **`ray.init()`**\n",
        "Memulai runtime Ray dan terhubung ke cluster Ray\n",
        "\n",
        "*   **`@ray.remote`**\n",
        "Dekorator yang menentukan fungsi atau kelas Python untuk dieksekusi sebagai tugas (remote function) atau (remote clas) dalam proses yang berbeda\n",
        "\n",
        "* **`.remote`**\n",
        "Suffix untuk fungsi dan kelas remote; operasi remote bersifat asynchronous\n",
        "\n",
        "* **`ray.put()`**\n",
        "Menyimpan objek di dalam penyimpanan objek in-memory; mengembalikan referensi objek yang digunakan untuk melewati objek ke setiap pemanggilan fungsi atau metode remote.\n",
        "\n",
        "* **`ray.get()`**\n",
        "Mengambil objek remote dari penyimpanan objek dengan menentukan referensi objek tersebut.\n",
        "\n",
        "\n"
      ],
      "metadata": {
        "id": "Uaj3d9Sxv2MU"
      }
    },
    {
      "cell_type": "markdown",
      "source": [
        "### Project Context\n",
        "\n",
        "Mengimplementasikan beberapa teknik machine learning untuk menunjukkan bagaimana Ray dapat mempercepat proses ini."
      ],
      "metadata": {
        "id": "LSubdvlGJv2v"
      }
    },
    {
      "cell_type": "markdown",
      "source": [
        "# Import Libraries"
      ],
      "metadata": {
        "id": "fWhBKDtEKXmU"
      }
    },
    {
      "cell_type": "code",
      "source": [
        "!pip install ray"
      ],
      "metadata": {
        "colab": {
          "base_uri": "https://localhost:8080/"
        },
        "id": "wN7qi3AyWMLP",
        "outputId": "807637f5-f6be-4707-a3bf-450a7d7912c9",
        "collapsed": true
      },
      "execution_count": null,
      "outputs": [
        {
          "output_type": "stream",
          "name": "stdout",
          "text": [
            "Collecting ray\n",
            "  Downloading ray-2.32.0-cp310-cp310-manylinux2014_x86_64.whl (65.7 MB)\n",
            "\u001b[2K     \u001b[90m━━━━━━━━━━━━━━━━━━━━━━━━━━━━━━━━━━━━━━━━\u001b[0m \u001b[32m65.7/65.7 MB\u001b[0m \u001b[31m10.8 MB/s\u001b[0m eta \u001b[36m0:00:00\u001b[0m\n",
            "\u001b[?25hRequirement already satisfied: click>=7.0 in /usr/local/lib/python3.10/dist-packages (from ray) (8.1.7)\n",
            "Requirement already satisfied: filelock in /usr/local/lib/python3.10/dist-packages (from ray) (3.15.4)\n",
            "Requirement already satisfied: jsonschema in /usr/local/lib/python3.10/dist-packages (from ray) (4.19.2)\n",
            "Requirement already satisfied: msgpack<2.0.0,>=1.0.0 in /usr/local/lib/python3.10/dist-packages (from ray) (1.0.8)\n",
            "Requirement already satisfied: packaging in /usr/local/lib/python3.10/dist-packages (from ray) (24.1)\n",
            "Requirement already satisfied: protobuf!=3.19.5,>=3.15.3 in /usr/local/lib/python3.10/dist-packages (from ray) (3.20.3)\n",
            "Requirement already satisfied: pyyaml in /usr/local/lib/python3.10/dist-packages (from ray) (6.0.1)\n",
            "Requirement already satisfied: aiosignal in /usr/local/lib/python3.10/dist-packages (from ray) (1.3.1)\n",
            "Requirement already satisfied: frozenlist in /usr/local/lib/python3.10/dist-packages (from ray) (1.4.1)\n",
            "Requirement already satisfied: requests in /usr/local/lib/python3.10/dist-packages (from ray) (2.31.0)\n",
            "Requirement already satisfied: attrs>=22.2.0 in /usr/local/lib/python3.10/dist-packages (from jsonschema->ray) (23.2.0)\n",
            "Requirement already satisfied: jsonschema-specifications>=2023.03.6 in /usr/local/lib/python3.10/dist-packages (from jsonschema->ray) (2023.12.1)\n",
            "Requirement already satisfied: referencing>=0.28.4 in /usr/local/lib/python3.10/dist-packages (from jsonschema->ray) (0.35.1)\n",
            "Requirement already satisfied: rpds-py>=0.7.1 in /usr/local/lib/python3.10/dist-packages (from jsonschema->ray) (0.18.1)\n",
            "Requirement already satisfied: charset-normalizer<4,>=2 in /usr/local/lib/python3.10/dist-packages (from requests->ray) (3.3.2)\n",
            "Requirement already satisfied: idna<4,>=2.5 in /usr/local/lib/python3.10/dist-packages (from requests->ray) (3.7)\n",
            "Requirement already satisfied: urllib3<3,>=1.21.1 in /usr/local/lib/python3.10/dist-packages (from requests->ray) (2.0.7)\n",
            "Requirement already satisfied: certifi>=2017.4.17 in /usr/local/lib/python3.10/dist-packages (from requests->ray) (2024.6.2)\n",
            "Installing collected packages: ray\n",
            "Successfully installed ray-2.32.0\n"
          ]
        }
      ]
    },
    {
      "cell_type": "code",
      "source": [
        "!pip install ray[default] joblib"
      ],
      "metadata": {
        "colab": {
          "base_uri": "https://localhost:8080/"
        },
        "id": "c9x9H3SVaG6n",
        "outputId": "81921e5a-9630-4c42-ff1b-2c4bb1171ab4",
        "collapsed": true
      },
      "execution_count": null,
      "outputs": [
        {
          "output_type": "stream",
          "name": "stdout",
          "text": [
            "Requirement already satisfied: ray[default] in /usr/local/lib/python3.10/dist-packages (2.32.0)\n",
            "Requirement already satisfied: joblib in /usr/local/lib/python3.10/dist-packages (1.4.2)\n",
            "Requirement already satisfied: click>=7.0 in /usr/local/lib/python3.10/dist-packages (from ray[default]) (8.1.7)\n",
            "Requirement already satisfied: filelock in /usr/local/lib/python3.10/dist-packages (from ray[default]) (3.15.4)\n",
            "Requirement already satisfied: jsonschema in /usr/local/lib/python3.10/dist-packages (from ray[default]) (4.19.2)\n",
            "Requirement already satisfied: msgpack<2.0.0,>=1.0.0 in /usr/local/lib/python3.10/dist-packages (from ray[default]) (1.0.8)\n",
            "Requirement already satisfied: packaging in /usr/local/lib/python3.10/dist-packages (from ray[default]) (24.1)\n",
            "Requirement already satisfied: protobuf!=3.19.5,>=3.15.3 in /usr/local/lib/python3.10/dist-packages (from ray[default]) (3.20.3)\n",
            "Requirement already satisfied: pyyaml in /usr/local/lib/python3.10/dist-packages (from ray[default]) (6.0.1)\n",
            "Requirement already satisfied: aiosignal in /usr/local/lib/python3.10/dist-packages (from ray[default]) (1.3.1)\n",
            "Requirement already satisfied: frozenlist in /usr/local/lib/python3.10/dist-packages (from ray[default]) (1.4.1)\n",
            "Requirement already satisfied: requests in /usr/local/lib/python3.10/dist-packages (from ray[default]) (2.31.0)\n",
            "Requirement already satisfied: aiohttp>=3.7 in /usr/local/lib/python3.10/dist-packages (from ray[default]) (3.9.5)\n",
            "Requirement already satisfied: aiohttp-cors in /usr/local/lib/python3.10/dist-packages (from ray[default]) (0.7.0)\n",
            "Requirement already satisfied: colorful in /usr/local/lib/python3.10/dist-packages (from ray[default]) (0.5.6)\n",
            "Requirement already satisfied: py-spy>=0.2.0 in /usr/local/lib/python3.10/dist-packages (from ray[default]) (0.3.14)\n",
            "Requirement already satisfied: opencensus in /usr/local/lib/python3.10/dist-packages (from ray[default]) (0.11.4)\n",
            "Requirement already satisfied: pydantic!=2.0.*,!=2.1.*,!=2.2.*,!=2.3.*,!=2.4.*,<3 in /usr/local/lib/python3.10/dist-packages (from ray[default]) (2.8.0)\n",
            "Requirement already satisfied: prometheus-client>=0.7.1 in /usr/local/lib/python3.10/dist-packages (from ray[default]) (0.20.0)\n",
            "Requirement already satisfied: smart-open in /usr/local/lib/python3.10/dist-packages (from ray[default]) (7.0.4)\n",
            "Requirement already satisfied: virtualenv!=20.21.1,>=20.0.24 in /usr/local/lib/python3.10/dist-packages (from ray[default]) (20.26.3)\n",
            "Requirement already satisfied: grpcio>=1.42.0 in /usr/local/lib/python3.10/dist-packages (from ray[default]) (1.64.1)\n",
            "Requirement already satisfied: memray in /usr/local/lib/python3.10/dist-packages (from ray[default]) (1.13.3)\n",
            "Requirement already satisfied: attrs>=17.3.0 in /usr/local/lib/python3.10/dist-packages (from aiohttp>=3.7->ray[default]) (23.2.0)\n",
            "Requirement already satisfied: multidict<7.0,>=4.5 in /usr/local/lib/python3.10/dist-packages (from aiohttp>=3.7->ray[default]) (6.0.5)\n",
            "Requirement already satisfied: yarl<2.0,>=1.0 in /usr/local/lib/python3.10/dist-packages (from aiohttp>=3.7->ray[default]) (1.9.4)\n",
            "Requirement already satisfied: async-timeout<5.0,>=4.0 in /usr/local/lib/python3.10/dist-packages (from aiohttp>=3.7->ray[default]) (4.0.3)\n",
            "Requirement already satisfied: annotated-types>=0.4.0 in /usr/local/lib/python3.10/dist-packages (from pydantic!=2.0.*,!=2.1.*,!=2.2.*,!=2.3.*,!=2.4.*,<3->ray[default]) (0.7.0)\n",
            "Requirement already satisfied: pydantic-core==2.20.0 in /usr/local/lib/python3.10/dist-packages (from pydantic!=2.0.*,!=2.1.*,!=2.2.*,!=2.3.*,!=2.4.*,<3->ray[default]) (2.20.0)\n",
            "Requirement already satisfied: typing-extensions>=4.6.1 in /usr/local/lib/python3.10/dist-packages (from pydantic!=2.0.*,!=2.1.*,!=2.2.*,!=2.3.*,!=2.4.*,<3->ray[default]) (4.12.2)\n",
            "Requirement already satisfied: distlib<1,>=0.3.7 in /usr/local/lib/python3.10/dist-packages (from virtualenv!=20.21.1,>=20.0.24->ray[default]) (0.3.8)\n",
            "Requirement already satisfied: platformdirs<5,>=3.9.1 in /usr/local/lib/python3.10/dist-packages (from virtualenv!=20.21.1,>=20.0.24->ray[default]) (4.2.2)\n",
            "Requirement already satisfied: jsonschema-specifications>=2023.03.6 in /usr/local/lib/python3.10/dist-packages (from jsonschema->ray[default]) (2023.12.1)\n",
            "Requirement already satisfied: referencing>=0.28.4 in /usr/local/lib/python3.10/dist-packages (from jsonschema->ray[default]) (0.35.1)\n",
            "Requirement already satisfied: rpds-py>=0.7.1 in /usr/local/lib/python3.10/dist-packages (from jsonschema->ray[default]) (0.18.1)\n",
            "Requirement already satisfied: jinja2>=2.9 in /usr/local/lib/python3.10/dist-packages (from memray->ray[default]) (3.1.4)\n",
            "Requirement already satisfied: rich>=11.2.0 in /usr/local/lib/python3.10/dist-packages (from memray->ray[default]) (13.7.1)\n",
            "Requirement already satisfied: textual>=0.41.0 in /usr/local/lib/python3.10/dist-packages (from memray->ray[default]) (0.72.0)\n",
            "Requirement already satisfied: opencensus-context>=0.1.3 in /usr/local/lib/python3.10/dist-packages (from opencensus->ray[default]) (0.1.3)\n",
            "Requirement already satisfied: six~=1.16 in /usr/local/lib/python3.10/dist-packages (from opencensus->ray[default]) (1.16.0)\n",
            "Requirement already satisfied: google-api-core<3.0.0,>=1.0.0 in /usr/local/lib/python3.10/dist-packages (from opencensus->ray[default]) (2.16.2)\n",
            "Requirement already satisfied: charset-normalizer<4,>=2 in /usr/local/lib/python3.10/dist-packages (from requests->ray[default]) (3.3.2)\n",
            "Requirement already satisfied: idna<4,>=2.5 in /usr/local/lib/python3.10/dist-packages (from requests->ray[default]) (3.7)\n",
            "Requirement already satisfied: urllib3<3,>=1.21.1 in /usr/local/lib/python3.10/dist-packages (from requests->ray[default]) (2.0.7)\n",
            "Requirement already satisfied: certifi>=2017.4.17 in /usr/local/lib/python3.10/dist-packages (from requests->ray[default]) (2024.6.2)\n",
            "Requirement already satisfied: wrapt in /usr/local/lib/python3.10/dist-packages (from smart-open->ray[default]) (1.14.1)\n",
            "Requirement already satisfied: googleapis-common-protos<2.0.dev0,>=1.56.2 in /usr/local/lib/python3.10/dist-packages (from google-api-core<3.0.0,>=1.0.0->opencensus->ray[default]) (1.63.2)\n",
            "Requirement already satisfied: google-auth<3.0.dev0,>=2.14.1 in /usr/local/lib/python3.10/dist-packages (from google-api-core<3.0.0,>=1.0.0->opencensus->ray[default]) (2.27.0)\n",
            "Requirement already satisfied: MarkupSafe>=2.0 in /usr/local/lib/python3.10/dist-packages (from jinja2>=2.9->memray->ray[default]) (2.1.5)\n",
            "Requirement already satisfied: markdown-it-py>=2.2.0 in /usr/local/lib/python3.10/dist-packages (from rich>=11.2.0->memray->ray[default]) (3.0.0)\n",
            "Requirement already satisfied: pygments<3.0.0,>=2.13.0 in /usr/local/lib/python3.10/dist-packages (from rich>=11.2.0->memray->ray[default]) (2.16.1)\n",
            "Requirement already satisfied: cachetools<6.0,>=2.0.0 in /usr/local/lib/python3.10/dist-packages (from google-auth<3.0.dev0,>=2.14.1->google-api-core<3.0.0,>=1.0.0->opencensus->ray[default]) (5.3.3)\n",
            "Requirement already satisfied: pyasn1-modules>=0.2.1 in /usr/local/lib/python3.10/dist-packages (from google-auth<3.0.dev0,>=2.14.1->google-api-core<3.0.0,>=1.0.0->opencensus->ray[default]) (0.4.0)\n",
            "Requirement already satisfied: rsa<5,>=3.1.4 in /usr/local/lib/python3.10/dist-packages (from google-auth<3.0.dev0,>=2.14.1->google-api-core<3.0.0,>=1.0.0->opencensus->ray[default]) (4.9)\n",
            "Requirement already satisfied: mdurl~=0.1 in /usr/local/lib/python3.10/dist-packages (from markdown-it-py>=2.2.0->rich>=11.2.0->memray->ray[default]) (0.1.2)\n",
            "Requirement already satisfied: linkify-it-py<3,>=1 in /usr/local/lib/python3.10/dist-packages (from markdown-it-py>=2.2.0->rich>=11.2.0->memray->ray[default]) (2.0.3)\n",
            "Requirement already satisfied: mdit-py-plugins in /usr/local/lib/python3.10/dist-packages (from markdown-it-py>=2.2.0->rich>=11.2.0->memray->ray[default]) (0.4.1)\n",
            "Requirement already satisfied: uc-micro-py in /usr/local/lib/python3.10/dist-packages (from linkify-it-py<3,>=1->markdown-it-py>=2.2.0->rich>=11.2.0->memray->ray[default]) (1.0.3)\n",
            "Requirement already satisfied: pyasn1<0.7.0,>=0.4.6 in /usr/local/lib/python3.10/dist-packages (from pyasn1-modules>=0.2.1->google-auth<3.0.dev0,>=2.14.1->google-api-core<3.0.0,>=1.0.0->opencensus->ray[default]) (0.6.0)\n"
          ]
        }
      ]
    },
    {
      "cell_type": "code",
      "source": [
        "import pandas as pd\n",
        "import numpy as np\n",
        "import matplotlib.pyplot as plt\n",
        "import seaborn as sns\n",
        "\n",
        "# Ray for parallel processing\n",
        "import ray\n",
        "import itertools\n",
        "import time\n",
        "import joblib\n",
        "from ray.util.joblib import register_ray\n",
        "\n",
        "# Scikit-learn libraries\n",
        "from collections import Counter\n",
        "from sklearn.preprocessing import LabelEncoder, OneHotEncoder, OrdinalEncoder\n",
        "from sklearn.tree import DecisionTreeClassifier\n",
        "from sklearn.model_selection import train_test_split, cross_val_predict, GridSearchCV, RandomizedSearchCV, cross_val_score\n",
        "from sklearn.compose import ColumnTransformer, make_column_transformer, make_column_selector\n",
        "from sklearn.feature_extraction.text import TfidfVectorizer\n",
        "from sklearn.impute import SimpleImputer\n",
        "from sklearn.metrics import precision_score, recall_score, f1_score, accuracy_score\n",
        "from sklearn.datasets import make_classification\n",
        "from sklearn.ensemble import RandomForestClassifier\n",
        "from sklearn.linear_model import LogisticRegression"
      ],
      "metadata": {
        "id": "7GxnykznKcsF"
      },
      "execution_count": null,
      "outputs": []
    },
    {
      "cell_type": "markdown",
      "source": [
        "# Loading Data"
      ],
      "metadata": {
        "id": "oQ2_jgRQKqIH"
      }
    },
    {
      "cell_type": "code",
      "source": [
        "df = pd.read_csv('https://raw.githubusercontent.com/tesalonikahtp/dataset/main/job_app.csv')\n",
        "df.head()"
      ],
      "metadata": {
        "colab": {
          "base_uri": "https://localhost:8080/",
          "height": 243
        },
        "id": "lqP9aokCKmGv",
        "outputId": "90eeefb3-9132-45bc-bb5c-f7bf631bead5"
      },
      "execution_count": null,
      "outputs": [
        {
          "output_type": "execute_result",
          "data": {
            "text/plain": [
              "   Unnamed: 0  Age Accessibility        EdLevel  Employment Gender  \\\n",
              "0           0  <35            No         Master           1    Man   \n",
              "1           1  <35            No  Undergraduate           1    Man   \n",
              "2           2  <35            No         Master           1    Man   \n",
              "3           3  <35            No  Undergraduate           1    Man   \n",
              "4           4  >35            No            PhD           0    Man   \n",
              "\n",
              "  MentalHealth MainBranch  YearsCode  YearsCodePro    Country  PreviousSalary  \\\n",
              "0           No        Dev          7             4     Sweden         51552.0   \n",
              "1           No        Dev         12             5      Spain         46482.0   \n",
              "2           No        Dev         15             6    Germany         77290.0   \n",
              "3           No        Dev          9             6     Canada         46135.0   \n",
              "4           No     NotDev         40            30  Singapore        160932.0   \n",
              "\n",
              "                                      HaveWorkedWith  ComputerSkills  Employed  \n",
              "0                          C++;Python;Git;PostgreSQL               4         0  \n",
              "1  Bash/Shell;HTML/CSS;JavaScript;Node.js;SQL;Typ...              12         1  \n",
              "2             C;C++;Java;Perl;Ruby;Git;Ruby on Rails               7         0  \n",
              "3  Bash/Shell;HTML/CSS;JavaScript;PHP;Ruby;SQL;Gi...              13         0  \n",
              "4                                         C++;Python               2         0  "
            ],
            "text/html": [
              "\n",
              "  <div id=\"df-b89eee58-75d8-45be-b243-fb9376cef7e1\" class=\"colab-df-container\">\n",
              "    <div>\n",
              "<style scoped>\n",
              "    .dataframe tbody tr th:only-of-type {\n",
              "        vertical-align: middle;\n",
              "    }\n",
              "\n",
              "    .dataframe tbody tr th {\n",
              "        vertical-align: top;\n",
              "    }\n",
              "\n",
              "    .dataframe thead th {\n",
              "        text-align: right;\n",
              "    }\n",
              "</style>\n",
              "<table border=\"1\" class=\"dataframe\">\n",
              "  <thead>\n",
              "    <tr style=\"text-align: right;\">\n",
              "      <th></th>\n",
              "      <th>Unnamed: 0</th>\n",
              "      <th>Age</th>\n",
              "      <th>Accessibility</th>\n",
              "      <th>EdLevel</th>\n",
              "      <th>Employment</th>\n",
              "      <th>Gender</th>\n",
              "      <th>MentalHealth</th>\n",
              "      <th>MainBranch</th>\n",
              "      <th>YearsCode</th>\n",
              "      <th>YearsCodePro</th>\n",
              "      <th>Country</th>\n",
              "      <th>PreviousSalary</th>\n",
              "      <th>HaveWorkedWith</th>\n",
              "      <th>ComputerSkills</th>\n",
              "      <th>Employed</th>\n",
              "    </tr>\n",
              "  </thead>\n",
              "  <tbody>\n",
              "    <tr>\n",
              "      <th>0</th>\n",
              "      <td>0</td>\n",
              "      <td>&lt;35</td>\n",
              "      <td>No</td>\n",
              "      <td>Master</td>\n",
              "      <td>1</td>\n",
              "      <td>Man</td>\n",
              "      <td>No</td>\n",
              "      <td>Dev</td>\n",
              "      <td>7</td>\n",
              "      <td>4</td>\n",
              "      <td>Sweden</td>\n",
              "      <td>51552.0</td>\n",
              "      <td>C++;Python;Git;PostgreSQL</td>\n",
              "      <td>4</td>\n",
              "      <td>0</td>\n",
              "    </tr>\n",
              "    <tr>\n",
              "      <th>1</th>\n",
              "      <td>1</td>\n",
              "      <td>&lt;35</td>\n",
              "      <td>No</td>\n",
              "      <td>Undergraduate</td>\n",
              "      <td>1</td>\n",
              "      <td>Man</td>\n",
              "      <td>No</td>\n",
              "      <td>Dev</td>\n",
              "      <td>12</td>\n",
              "      <td>5</td>\n",
              "      <td>Spain</td>\n",
              "      <td>46482.0</td>\n",
              "      <td>Bash/Shell;HTML/CSS;JavaScript;Node.js;SQL;Typ...</td>\n",
              "      <td>12</td>\n",
              "      <td>1</td>\n",
              "    </tr>\n",
              "    <tr>\n",
              "      <th>2</th>\n",
              "      <td>2</td>\n",
              "      <td>&lt;35</td>\n",
              "      <td>No</td>\n",
              "      <td>Master</td>\n",
              "      <td>1</td>\n",
              "      <td>Man</td>\n",
              "      <td>No</td>\n",
              "      <td>Dev</td>\n",
              "      <td>15</td>\n",
              "      <td>6</td>\n",
              "      <td>Germany</td>\n",
              "      <td>77290.0</td>\n",
              "      <td>C;C++;Java;Perl;Ruby;Git;Ruby on Rails</td>\n",
              "      <td>7</td>\n",
              "      <td>0</td>\n",
              "    </tr>\n",
              "    <tr>\n",
              "      <th>3</th>\n",
              "      <td>3</td>\n",
              "      <td>&lt;35</td>\n",
              "      <td>No</td>\n",
              "      <td>Undergraduate</td>\n",
              "      <td>1</td>\n",
              "      <td>Man</td>\n",
              "      <td>No</td>\n",
              "      <td>Dev</td>\n",
              "      <td>9</td>\n",
              "      <td>6</td>\n",
              "      <td>Canada</td>\n",
              "      <td>46135.0</td>\n",
              "      <td>Bash/Shell;HTML/CSS;JavaScript;PHP;Ruby;SQL;Gi...</td>\n",
              "      <td>13</td>\n",
              "      <td>0</td>\n",
              "    </tr>\n",
              "    <tr>\n",
              "      <th>4</th>\n",
              "      <td>4</td>\n",
              "      <td>&gt;35</td>\n",
              "      <td>No</td>\n",
              "      <td>PhD</td>\n",
              "      <td>0</td>\n",
              "      <td>Man</td>\n",
              "      <td>No</td>\n",
              "      <td>NotDev</td>\n",
              "      <td>40</td>\n",
              "      <td>30</td>\n",
              "      <td>Singapore</td>\n",
              "      <td>160932.0</td>\n",
              "      <td>C++;Python</td>\n",
              "      <td>2</td>\n",
              "      <td>0</td>\n",
              "    </tr>\n",
              "  </tbody>\n",
              "</table>\n",
              "</div>\n",
              "    <div class=\"colab-df-buttons\">\n",
              "\n",
              "  <div class=\"colab-df-container\">\n",
              "    <button class=\"colab-df-convert\" onclick=\"convertToInteractive('df-b89eee58-75d8-45be-b243-fb9376cef7e1')\"\n",
              "            title=\"Convert this dataframe to an interactive table.\"\n",
              "            style=\"display:none;\">\n",
              "\n",
              "  <svg xmlns=\"http://www.w3.org/2000/svg\" height=\"24px\" viewBox=\"0 -960 960 960\">\n",
              "    <path d=\"M120-120v-720h720v720H120Zm60-500h600v-160H180v160Zm220 220h160v-160H400v160Zm0 220h160v-160H400v160ZM180-400h160v-160H180v160Zm440 0h160v-160H620v160ZM180-180h160v-160H180v160Zm440 0h160v-160H620v160Z\"/>\n",
              "  </svg>\n",
              "    </button>\n",
              "\n",
              "  <style>\n",
              "    .colab-df-container {\n",
              "      display:flex;\n",
              "      gap: 12px;\n",
              "    }\n",
              "\n",
              "    .colab-df-convert {\n",
              "      background-color: #E8F0FE;\n",
              "      border: none;\n",
              "      border-radius: 50%;\n",
              "      cursor: pointer;\n",
              "      display: none;\n",
              "      fill: #1967D2;\n",
              "      height: 32px;\n",
              "      padding: 0 0 0 0;\n",
              "      width: 32px;\n",
              "    }\n",
              "\n",
              "    .colab-df-convert:hover {\n",
              "      background-color: #E2EBFA;\n",
              "      box-shadow: 0px 1px 2px rgba(60, 64, 67, 0.3), 0px 1px 3px 1px rgba(60, 64, 67, 0.15);\n",
              "      fill: #174EA6;\n",
              "    }\n",
              "\n",
              "    .colab-df-buttons div {\n",
              "      margin-bottom: 4px;\n",
              "    }\n",
              "\n",
              "    [theme=dark] .colab-df-convert {\n",
              "      background-color: #3B4455;\n",
              "      fill: #D2E3FC;\n",
              "    }\n",
              "\n",
              "    [theme=dark] .colab-df-convert:hover {\n",
              "      background-color: #434B5C;\n",
              "      box-shadow: 0px 1px 3px 1px rgba(0, 0, 0, 0.15);\n",
              "      filter: drop-shadow(0px 1px 2px rgba(0, 0, 0, 0.3));\n",
              "      fill: #FFFFFF;\n",
              "    }\n",
              "  </style>\n",
              "\n",
              "    <script>\n",
              "      const buttonEl =\n",
              "        document.querySelector('#df-b89eee58-75d8-45be-b243-fb9376cef7e1 button.colab-df-convert');\n",
              "      buttonEl.style.display =\n",
              "        google.colab.kernel.accessAllowed ? 'block' : 'none';\n",
              "\n",
              "      async function convertToInteractive(key) {\n",
              "        const element = document.querySelector('#df-b89eee58-75d8-45be-b243-fb9376cef7e1');\n",
              "        const dataTable =\n",
              "          await google.colab.kernel.invokeFunction('convertToInteractive',\n",
              "                                                    [key], {});\n",
              "        if (!dataTable) return;\n",
              "\n",
              "        const docLinkHtml = 'Like what you see? Visit the ' +\n",
              "          '<a target=\"_blank\" href=https://colab.research.google.com/notebooks/data_table.ipynb>data table notebook</a>'\n",
              "          + ' to learn more about interactive tables.';\n",
              "        element.innerHTML = '';\n",
              "        dataTable['output_type'] = 'display_data';\n",
              "        await google.colab.output.renderOutput(dataTable, element);\n",
              "        const docLink = document.createElement('div');\n",
              "        docLink.innerHTML = docLinkHtml;\n",
              "        element.appendChild(docLink);\n",
              "      }\n",
              "    </script>\n",
              "  </div>\n",
              "\n",
              "\n",
              "<div id=\"df-e4e40d8b-fb37-48de-bacf-76c128bc6b68\">\n",
              "  <button class=\"colab-df-quickchart\" onclick=\"quickchart('df-e4e40d8b-fb37-48de-bacf-76c128bc6b68')\"\n",
              "            title=\"Suggest charts\"\n",
              "            style=\"display:none;\">\n",
              "\n",
              "<svg xmlns=\"http://www.w3.org/2000/svg\" height=\"24px\"viewBox=\"0 0 24 24\"\n",
              "     width=\"24px\">\n",
              "    <g>\n",
              "        <path d=\"M19 3H5c-1.1 0-2 .9-2 2v14c0 1.1.9 2 2 2h14c1.1 0 2-.9 2-2V5c0-1.1-.9-2-2-2zM9 17H7v-7h2v7zm4 0h-2V7h2v10zm4 0h-2v-4h2v4z\"/>\n",
              "    </g>\n",
              "</svg>\n",
              "  </button>\n",
              "\n",
              "<style>\n",
              "  .colab-df-quickchart {\n",
              "      --bg-color: #E8F0FE;\n",
              "      --fill-color: #1967D2;\n",
              "      --hover-bg-color: #E2EBFA;\n",
              "      --hover-fill-color: #174EA6;\n",
              "      --disabled-fill-color: #AAA;\n",
              "      --disabled-bg-color: #DDD;\n",
              "  }\n",
              "\n",
              "  [theme=dark] .colab-df-quickchart {\n",
              "      --bg-color: #3B4455;\n",
              "      --fill-color: #D2E3FC;\n",
              "      --hover-bg-color: #434B5C;\n",
              "      --hover-fill-color: #FFFFFF;\n",
              "      --disabled-bg-color: #3B4455;\n",
              "      --disabled-fill-color: #666;\n",
              "  }\n",
              "\n",
              "  .colab-df-quickchart {\n",
              "    background-color: var(--bg-color);\n",
              "    border: none;\n",
              "    border-radius: 50%;\n",
              "    cursor: pointer;\n",
              "    display: none;\n",
              "    fill: var(--fill-color);\n",
              "    height: 32px;\n",
              "    padding: 0;\n",
              "    width: 32px;\n",
              "  }\n",
              "\n",
              "  .colab-df-quickchart:hover {\n",
              "    background-color: var(--hover-bg-color);\n",
              "    box-shadow: 0 1px 2px rgba(60, 64, 67, 0.3), 0 1px 3px 1px rgba(60, 64, 67, 0.15);\n",
              "    fill: var(--button-hover-fill-color);\n",
              "  }\n",
              "\n",
              "  .colab-df-quickchart-complete:disabled,\n",
              "  .colab-df-quickchart-complete:disabled:hover {\n",
              "    background-color: var(--disabled-bg-color);\n",
              "    fill: var(--disabled-fill-color);\n",
              "    box-shadow: none;\n",
              "  }\n",
              "\n",
              "  .colab-df-spinner {\n",
              "    border: 2px solid var(--fill-color);\n",
              "    border-color: transparent;\n",
              "    border-bottom-color: var(--fill-color);\n",
              "    animation:\n",
              "      spin 1s steps(1) infinite;\n",
              "  }\n",
              "\n",
              "  @keyframes spin {\n",
              "    0% {\n",
              "      border-color: transparent;\n",
              "      border-bottom-color: var(--fill-color);\n",
              "      border-left-color: var(--fill-color);\n",
              "    }\n",
              "    20% {\n",
              "      border-color: transparent;\n",
              "      border-left-color: var(--fill-color);\n",
              "      border-top-color: var(--fill-color);\n",
              "    }\n",
              "    30% {\n",
              "      border-color: transparent;\n",
              "      border-left-color: var(--fill-color);\n",
              "      border-top-color: var(--fill-color);\n",
              "      border-right-color: var(--fill-color);\n",
              "    }\n",
              "    40% {\n",
              "      border-color: transparent;\n",
              "      border-right-color: var(--fill-color);\n",
              "      border-top-color: var(--fill-color);\n",
              "    }\n",
              "    60% {\n",
              "      border-color: transparent;\n",
              "      border-right-color: var(--fill-color);\n",
              "    }\n",
              "    80% {\n",
              "      border-color: transparent;\n",
              "      border-right-color: var(--fill-color);\n",
              "      border-bottom-color: var(--fill-color);\n",
              "    }\n",
              "    90% {\n",
              "      border-color: transparent;\n",
              "      border-bottom-color: var(--fill-color);\n",
              "    }\n",
              "  }\n",
              "</style>\n",
              "\n",
              "  <script>\n",
              "    async function quickchart(key) {\n",
              "      const quickchartButtonEl =\n",
              "        document.querySelector('#' + key + ' button');\n",
              "      quickchartButtonEl.disabled = true;  // To prevent multiple clicks.\n",
              "      quickchartButtonEl.classList.add('colab-df-spinner');\n",
              "      try {\n",
              "        const charts = await google.colab.kernel.invokeFunction(\n",
              "            'suggestCharts', [key], {});\n",
              "      } catch (error) {\n",
              "        console.error('Error during call to suggestCharts:', error);\n",
              "      }\n",
              "      quickchartButtonEl.classList.remove('colab-df-spinner');\n",
              "      quickchartButtonEl.classList.add('colab-df-quickchart-complete');\n",
              "    }\n",
              "    (() => {\n",
              "      let quickchartButtonEl =\n",
              "        document.querySelector('#df-e4e40d8b-fb37-48de-bacf-76c128bc6b68 button');\n",
              "      quickchartButtonEl.style.display =\n",
              "        google.colab.kernel.accessAllowed ? 'block' : 'none';\n",
              "    })();\n",
              "  </script>\n",
              "</div>\n",
              "\n",
              "    </div>\n",
              "  </div>\n"
            ],
            "application/vnd.google.colaboratory.intrinsic+json": {
              "type": "dataframe",
              "variable_name": "df",
              "summary": "{\n  \"name\": \"df\",\n  \"rows\": 73462,\n  \"fields\": [\n    {\n      \"column\": \"Unnamed: 0\",\n      \"properties\": {\n        \"dtype\": \"number\",\n        \"std\": 21206,\n        \"min\": 0,\n        \"max\": 73461,\n        \"num_unique_values\": 73462,\n        \"samples\": [\n          31363,\n          50414,\n          55640\n        ],\n        \"semantic_type\": \"\",\n        \"description\": \"\"\n      }\n    },\n    {\n      \"column\": \"Age\",\n      \"properties\": {\n        \"dtype\": \"category\",\n        \"num_unique_values\": 2,\n        \"samples\": [\n          \">35\",\n          \"<35\"\n        ],\n        \"semantic_type\": \"\",\n        \"description\": \"\"\n      }\n    },\n    {\n      \"column\": \"Accessibility\",\n      \"properties\": {\n        \"dtype\": \"category\",\n        \"num_unique_values\": 2,\n        \"samples\": [\n          \"Yes\",\n          \"No\"\n        ],\n        \"semantic_type\": \"\",\n        \"description\": \"\"\n      }\n    },\n    {\n      \"column\": \"EdLevel\",\n      \"properties\": {\n        \"dtype\": \"category\",\n        \"num_unique_values\": 5,\n        \"samples\": [\n          \"Undergraduate\",\n          \"NoHigherEd\"\n        ],\n        \"semantic_type\": \"\",\n        \"description\": \"\"\n      }\n    },\n    {\n      \"column\": \"Employment\",\n      \"properties\": {\n        \"dtype\": \"number\",\n        \"std\": 0,\n        \"min\": 0,\n        \"max\": 1,\n        \"num_unique_values\": 2,\n        \"samples\": [\n          0,\n          1\n        ],\n        \"semantic_type\": \"\",\n        \"description\": \"\"\n      }\n    },\n    {\n      \"column\": \"Gender\",\n      \"properties\": {\n        \"dtype\": \"category\",\n        \"num_unique_values\": 3,\n        \"samples\": [\n          \"Man\",\n          \"Woman\"\n        ],\n        \"semantic_type\": \"\",\n        \"description\": \"\"\n      }\n    },\n    {\n      \"column\": \"MentalHealth\",\n      \"properties\": {\n        \"dtype\": \"category\",\n        \"num_unique_values\": 2,\n        \"samples\": [\n          \"Yes\",\n          \"No\"\n        ],\n        \"semantic_type\": \"\",\n        \"description\": \"\"\n      }\n    },\n    {\n      \"column\": \"MainBranch\",\n      \"properties\": {\n        \"dtype\": \"category\",\n        \"num_unique_values\": 2,\n        \"samples\": [\n          \"NotDev\",\n          \"Dev\"\n        ],\n        \"semantic_type\": \"\",\n        \"description\": \"\"\n      }\n    },\n    {\n      \"column\": \"YearsCode\",\n      \"properties\": {\n        \"dtype\": \"number\",\n        \"std\": 9,\n        \"min\": 0,\n        \"max\": 50,\n        \"num_unique_values\": 51,\n        \"samples\": [\n          43,\n          45\n        ],\n        \"semantic_type\": \"\",\n        \"description\": \"\"\n      }\n    },\n    {\n      \"column\": \"YearsCodePro\",\n      \"properties\": {\n        \"dtype\": \"number\",\n        \"std\": 7,\n        \"min\": 0,\n        \"max\": 50,\n        \"num_unique_values\": 51,\n        \"samples\": [\n          36,\n          32\n        ],\n        \"semantic_type\": \"\",\n        \"description\": \"\"\n      }\n    },\n    {\n      \"column\": \"Country\",\n      \"properties\": {\n        \"dtype\": \"category\",\n        \"num_unique_values\": 172,\n        \"samples\": [\n          \"Uzbekistan\",\n          \"Benin\"\n        ],\n        \"semantic_type\": \"\",\n        \"description\": \"\"\n      }\n    },\n    {\n      \"column\": \"PreviousSalary\",\n      \"properties\": {\n        \"dtype\": \"number\",\n        \"std\": 49488.14211766408,\n        \"min\": 1.0,\n        \"max\": 224000.0,\n        \"num_unique_values\": 12062,\n        \"samples\": [\n          51768.0,\n          16440.0\n        ],\n        \"semantic_type\": \"\",\n        \"description\": \"\"\n      }\n    },\n    {\n      \"column\": \"HaveWorkedWith\",\n      \"properties\": {\n        \"dtype\": \"string\",\n        \"num_unique_values\": 69980,\n        \"samples\": [\n          \"Bash/Shell;HTML/CSS;JavaScript;Git;AWS;Microsoft Azure\",\n          \"Go;HTML/CSS;JavaScript;Node.js;SQL;TypeScript;Docker;Git;Kubernetes;Terraform;Express;React.js;AWS;Cassandra;PostgreSQL\"\n        ],\n        \"semantic_type\": \"\",\n        \"description\": \"\"\n      }\n    },\n    {\n      \"column\": \"ComputerSkills\",\n      \"properties\": {\n        \"dtype\": \"number\",\n        \"std\": 7,\n        \"min\": 0,\n        \"max\": 107,\n        \"num_unique_values\": 73,\n        \"samples\": [\n          2,\n          90\n        ],\n        \"semantic_type\": \"\",\n        \"description\": \"\"\n      }\n    },\n    {\n      \"column\": \"Employed\",\n      \"properties\": {\n        \"dtype\": \"number\",\n        \"std\": 0,\n        \"min\": 0,\n        \"max\": 1,\n        \"num_unique_values\": 2,\n        \"samples\": [\n          1,\n          0\n        ],\n        \"semantic_type\": \"\",\n        \"description\": \"\"\n      }\n    }\n  ]\n}"
            }
          },
          "metadata": {},
          "execution_count": 21
        }
      ]
    },
    {
      "cell_type": "code",
      "source": [
        "df = df.drop(columns=['Unnamed: 0'])"
      ],
      "metadata": {
        "id": "u5xQO0kCKu4a"
      },
      "execution_count": null,
      "outputs": []
    },
    {
      "cell_type": "code",
      "source": [
        "df.info()"
      ],
      "metadata": {
        "colab": {
          "base_uri": "https://localhost:8080/"
        },
        "id": "TWb0fB6iKv9I",
        "outputId": "079b16c5-7940-4a4e-fe6d-4f42459cd876"
      },
      "execution_count": null,
      "outputs": [
        {
          "output_type": "stream",
          "name": "stdout",
          "text": [
            "<class 'pandas.core.frame.DataFrame'>\n",
            "RangeIndex: 73462 entries, 0 to 73461\n",
            "Data columns (total 14 columns):\n",
            " #   Column          Non-Null Count  Dtype  \n",
            "---  ------          --------------  -----  \n",
            " 0   Age             73462 non-null  object \n",
            " 1   Accessibility   73462 non-null  object \n",
            " 2   EdLevel         73462 non-null  object \n",
            " 3   Employment      73462 non-null  int64  \n",
            " 4   Gender          73462 non-null  object \n",
            " 5   MentalHealth    73462 non-null  object \n",
            " 6   MainBranch      73462 non-null  object \n",
            " 7   YearsCode       73462 non-null  int64  \n",
            " 8   YearsCodePro    73462 non-null  int64  \n",
            " 9   Country         73462 non-null  object \n",
            " 10  PreviousSalary  73462 non-null  float64\n",
            " 11  HaveWorkedWith  73399 non-null  object \n",
            " 12  ComputerSkills  73462 non-null  int64  \n",
            " 13  Employed        73462 non-null  int64  \n",
            "dtypes: float64(1), int64(5), object(8)\n",
            "memory usage: 7.8+ MB\n"
          ]
        }
      ]
    },
    {
      "cell_type": "code",
      "source": [
        "df = df.dropna(subset=['HaveWorkedWith'])"
      ],
      "metadata": {
        "id": "Ubr-zwxuKxdy"
      },
      "execution_count": null,
      "outputs": []
    },
    {
      "cell_type": "markdown",
      "source": [
        "Dealing With Categorical Data\n",
        "- - -"
      ],
      "metadata": {
        "id": "sQhQPNpvKyfL"
      }
    },
    {
      "cell_type": "code",
      "source": [
        "text_col = 'HaveWorkedWith'\n",
        "categorical_cols = ['Age', 'Accessibility', 'EdLevel', 'Gender', 'MentalHealth', 'MainBranch', 'Country']\n",
        "ordinal_cols = ['YearsCodePro']\n",
        "\n",
        "preprocessor = ColumnTransformer(\n",
        "    transformers=[\n",
        "        ('tfidf', TfidfVectorizer(), text_col),\n",
        "        ('onehot', OneHotEncoder(handle_unknown='ignore'), categorical_cols),\n",
        "        ('ordinal', OrdinalEncoder(), ordinal_cols)\n",
        "    ])\n",
        "\n",
        "X = preprocessor.fit_transform(df)\n",
        "\n",
        "# Get feature names for the resulting dataframe\n",
        "text_feature_names = preprocessor.named_transformers_['tfidf'].get_feature_names_out([text_col])\n",
        "categorical_feature_names = preprocessor.named_transformers_['onehot'].get_feature_names_out(categorical_cols)\n",
        "ordinal_feature_names = ordinal_cols\n",
        "\n",
        "columns = text_feature_names.tolist() + categorical_feature_names.tolist() + ordinal_feature_names\n",
        "\n",
        "categorical = pd.DataFrame(X.toarray(), columns=columns)"
      ],
      "metadata": {
        "id": "6-jn0ZT-K03o"
      },
      "execution_count": null,
      "outputs": []
    },
    {
      "cell_type": "code",
      "source": [
        "columns_to_remove = [text_col] + categorical_cols + ordinal_cols\n",
        "df_cleaned = df.drop(columns=columns_to_remove)\n",
        "\n",
        "df_cleaned_reset = df_cleaned.reset_index(drop=True)\n",
        "categorical_reset = categorical.reset_index(drop=True)\n",
        "\n",
        "merged_data = pd.concat([df_cleaned_reset, categorical_reset], axis=1)\n",
        "\n",
        "merged_data"
      ],
      "metadata": {
        "colab": {
          "base_uri": "https://localhost:8080/",
          "height": 478
        },
        "id": "HlhSKsCoK25_",
        "outputId": "a838e224-dd4c-4481-8f1b-38be1b8e48f2"
      },
      "execution_count": null,
      "outputs": [
        {
          "output_type": "execute_result",
          "data": {
            "text/plain": [
              "       Employment  YearsCode  PreviousSalary  ComputerSkills  Employed   3d  \\\n",
              "0               1          7         51552.0               4         0  0.0   \n",
              "1               1         12         46482.0              12         1  0.0   \n",
              "2               1         15         77290.0               7         0  0.0   \n",
              "3               1          9         46135.0              13         0  0.0   \n",
              "4               0         40        160932.0               2         0  0.0   \n",
              "...           ...        ...             ...             ...       ...  ...   \n",
              "73394           1          7         41058.0              13         1  0.0   \n",
              "73395           1         21        115000.0              11         1  0.0   \n",
              "73396           1          4         57720.0              12         1  0.0   \n",
              "73397           1          5         70000.0              15         1  0.0   \n",
              "73398           1         10         75384.0               2         0  0.0   \n",
              "\n",
              "        angular  ansible  apl       asp  ...  \\\n",
              "0      0.000000      0.0  0.0  0.000000  ...   \n",
              "1      0.000000      0.0  0.0  0.000000  ...   \n",
              "2      0.000000      0.0  0.0  0.000000  ...   \n",
              "3      0.000000      0.0  0.0  0.000000  ...   \n",
              "4      0.000000      0.0  0.0  0.000000  ...   \n",
              "...         ...      ...  ...       ...  ...   \n",
              "73394  0.250169      0.0  0.0  0.261380  ...   \n",
              "73395  0.000000      0.0  0.0  0.247904  ...   \n",
              "73396  0.000000      0.0  0.0  0.000000  ...   \n",
              "73397  0.252840      0.0  0.0  0.264170  ...   \n",
              "73398  0.000000      0.0  0.0  0.000000  ...   \n",
              "\n",
              "       Country_United Republic of Tanzania  Country_United States of America  \\\n",
              "0                                      0.0                               0.0   \n",
              "1                                      0.0                               0.0   \n",
              "2                                      0.0                               0.0   \n",
              "3                                      0.0                               0.0   \n",
              "4                                      0.0                               0.0   \n",
              "...                                    ...                               ...   \n",
              "73394                                  0.0                               0.0   \n",
              "73395                                  0.0                               1.0   \n",
              "73396                                  0.0                               0.0   \n",
              "73397                                  0.0                               1.0   \n",
              "73398                                  0.0                               0.0   \n",
              "\n",
              "       Country_Uruguay  Country_Uzbekistan  \\\n",
              "0                  0.0                 0.0   \n",
              "1                  0.0                 0.0   \n",
              "2                  0.0                 0.0   \n",
              "3                  0.0                 0.0   \n",
              "4                  0.0                 0.0   \n",
              "...                ...                 ...   \n",
              "73394              0.0                 0.0   \n",
              "73395              0.0                 0.0   \n",
              "73396              0.0                 0.0   \n",
              "73397              0.0                 0.0   \n",
              "73398              0.0                 0.0   \n",
              "\n",
              "       Country_Venezuela, Bolivarian Republic of...  Country_Viet Nam  \\\n",
              "0                                               0.0               0.0   \n",
              "1                                               0.0               0.0   \n",
              "2                                               0.0               0.0   \n",
              "3                                               0.0               0.0   \n",
              "4                                               0.0               0.0   \n",
              "...                                             ...               ...   \n",
              "73394                                           0.0               0.0   \n",
              "73395                                           0.0               0.0   \n",
              "73396                                           0.0               0.0   \n",
              "73397                                           0.0               0.0   \n",
              "73398                                           0.0               0.0   \n",
              "\n",
              "       Country_Yemen  Country_Zambia  Country_Zimbabwe  YearsCodePro  \n",
              "0                0.0             0.0               0.0           4.0  \n",
              "1                0.0             0.0               0.0           5.0  \n",
              "2                0.0             0.0               0.0           6.0  \n",
              "3                0.0             0.0               0.0           6.0  \n",
              "4                0.0             0.0               0.0          30.0  \n",
              "...              ...             ...               ...           ...  \n",
              "73394            0.0             0.0               0.0           2.0  \n",
              "73395            0.0             0.0               0.0          16.0  \n",
              "73396            0.0             0.0               0.0           3.0  \n",
              "73397            0.0             0.0               0.0           1.0  \n",
              "73398            0.0             0.0               0.0           3.0  \n",
              "\n",
              "[73399 rows x 317 columns]"
            ],
            "text/html": [
              "\n",
              "  <div id=\"df-c6daebae-d883-4358-b96f-64a876484908\" class=\"colab-df-container\">\n",
              "    <div>\n",
              "<style scoped>\n",
              "    .dataframe tbody tr th:only-of-type {\n",
              "        vertical-align: middle;\n",
              "    }\n",
              "\n",
              "    .dataframe tbody tr th {\n",
              "        vertical-align: top;\n",
              "    }\n",
              "\n",
              "    .dataframe thead th {\n",
              "        text-align: right;\n",
              "    }\n",
              "</style>\n",
              "<table border=\"1\" class=\"dataframe\">\n",
              "  <thead>\n",
              "    <tr style=\"text-align: right;\">\n",
              "      <th></th>\n",
              "      <th>Employment</th>\n",
              "      <th>YearsCode</th>\n",
              "      <th>PreviousSalary</th>\n",
              "      <th>ComputerSkills</th>\n",
              "      <th>Employed</th>\n",
              "      <th>3d</th>\n",
              "      <th>angular</th>\n",
              "      <th>ansible</th>\n",
              "      <th>apl</th>\n",
              "      <th>asp</th>\n",
              "      <th>...</th>\n",
              "      <th>Country_United Republic of Tanzania</th>\n",
              "      <th>Country_United States of America</th>\n",
              "      <th>Country_Uruguay</th>\n",
              "      <th>Country_Uzbekistan</th>\n",
              "      <th>Country_Venezuela, Bolivarian Republic of...</th>\n",
              "      <th>Country_Viet Nam</th>\n",
              "      <th>Country_Yemen</th>\n",
              "      <th>Country_Zambia</th>\n",
              "      <th>Country_Zimbabwe</th>\n",
              "      <th>YearsCodePro</th>\n",
              "    </tr>\n",
              "  </thead>\n",
              "  <tbody>\n",
              "    <tr>\n",
              "      <th>0</th>\n",
              "      <td>1</td>\n",
              "      <td>7</td>\n",
              "      <td>51552.0</td>\n",
              "      <td>4</td>\n",
              "      <td>0</td>\n",
              "      <td>0.0</td>\n",
              "      <td>0.000000</td>\n",
              "      <td>0.0</td>\n",
              "      <td>0.0</td>\n",
              "      <td>0.000000</td>\n",
              "      <td>...</td>\n",
              "      <td>0.0</td>\n",
              "      <td>0.0</td>\n",
              "      <td>0.0</td>\n",
              "      <td>0.0</td>\n",
              "      <td>0.0</td>\n",
              "      <td>0.0</td>\n",
              "      <td>0.0</td>\n",
              "      <td>0.0</td>\n",
              "      <td>0.0</td>\n",
              "      <td>4.0</td>\n",
              "    </tr>\n",
              "    <tr>\n",
              "      <th>1</th>\n",
              "      <td>1</td>\n",
              "      <td>12</td>\n",
              "      <td>46482.0</td>\n",
              "      <td>12</td>\n",
              "      <td>1</td>\n",
              "      <td>0.0</td>\n",
              "      <td>0.000000</td>\n",
              "      <td>0.0</td>\n",
              "      <td>0.0</td>\n",
              "      <td>0.000000</td>\n",
              "      <td>...</td>\n",
              "      <td>0.0</td>\n",
              "      <td>0.0</td>\n",
              "      <td>0.0</td>\n",
              "      <td>0.0</td>\n",
              "      <td>0.0</td>\n",
              "      <td>0.0</td>\n",
              "      <td>0.0</td>\n",
              "      <td>0.0</td>\n",
              "      <td>0.0</td>\n",
              "      <td>5.0</td>\n",
              "    </tr>\n",
              "    <tr>\n",
              "      <th>2</th>\n",
              "      <td>1</td>\n",
              "      <td>15</td>\n",
              "      <td>77290.0</td>\n",
              "      <td>7</td>\n",
              "      <td>0</td>\n",
              "      <td>0.0</td>\n",
              "      <td>0.000000</td>\n",
              "      <td>0.0</td>\n",
              "      <td>0.0</td>\n",
              "      <td>0.000000</td>\n",
              "      <td>...</td>\n",
              "      <td>0.0</td>\n",
              "      <td>0.0</td>\n",
              "      <td>0.0</td>\n",
              "      <td>0.0</td>\n",
              "      <td>0.0</td>\n",
              "      <td>0.0</td>\n",
              "      <td>0.0</td>\n",
              "      <td>0.0</td>\n",
              "      <td>0.0</td>\n",
              "      <td>6.0</td>\n",
              "    </tr>\n",
              "    <tr>\n",
              "      <th>3</th>\n",
              "      <td>1</td>\n",
              "      <td>9</td>\n",
              "      <td>46135.0</td>\n",
              "      <td>13</td>\n",
              "      <td>0</td>\n",
              "      <td>0.0</td>\n",
              "      <td>0.000000</td>\n",
              "      <td>0.0</td>\n",
              "      <td>0.0</td>\n",
              "      <td>0.000000</td>\n",
              "      <td>...</td>\n",
              "      <td>0.0</td>\n",
              "      <td>0.0</td>\n",
              "      <td>0.0</td>\n",
              "      <td>0.0</td>\n",
              "      <td>0.0</td>\n",
              "      <td>0.0</td>\n",
              "      <td>0.0</td>\n",
              "      <td>0.0</td>\n",
              "      <td>0.0</td>\n",
              "      <td>6.0</td>\n",
              "    </tr>\n",
              "    <tr>\n",
              "      <th>4</th>\n",
              "      <td>0</td>\n",
              "      <td>40</td>\n",
              "      <td>160932.0</td>\n",
              "      <td>2</td>\n",
              "      <td>0</td>\n",
              "      <td>0.0</td>\n",
              "      <td>0.000000</td>\n",
              "      <td>0.0</td>\n",
              "      <td>0.0</td>\n",
              "      <td>0.000000</td>\n",
              "      <td>...</td>\n",
              "      <td>0.0</td>\n",
              "      <td>0.0</td>\n",
              "      <td>0.0</td>\n",
              "      <td>0.0</td>\n",
              "      <td>0.0</td>\n",
              "      <td>0.0</td>\n",
              "      <td>0.0</td>\n",
              "      <td>0.0</td>\n",
              "      <td>0.0</td>\n",
              "      <td>30.0</td>\n",
              "    </tr>\n",
              "    <tr>\n",
              "      <th>...</th>\n",
              "      <td>...</td>\n",
              "      <td>...</td>\n",
              "      <td>...</td>\n",
              "      <td>...</td>\n",
              "      <td>...</td>\n",
              "      <td>...</td>\n",
              "      <td>...</td>\n",
              "      <td>...</td>\n",
              "      <td>...</td>\n",
              "      <td>...</td>\n",
              "      <td>...</td>\n",
              "      <td>...</td>\n",
              "      <td>...</td>\n",
              "      <td>...</td>\n",
              "      <td>...</td>\n",
              "      <td>...</td>\n",
              "      <td>...</td>\n",
              "      <td>...</td>\n",
              "      <td>...</td>\n",
              "      <td>...</td>\n",
              "      <td>...</td>\n",
              "    </tr>\n",
              "    <tr>\n",
              "      <th>73394</th>\n",
              "      <td>1</td>\n",
              "      <td>7</td>\n",
              "      <td>41058.0</td>\n",
              "      <td>13</td>\n",
              "      <td>1</td>\n",
              "      <td>0.0</td>\n",
              "      <td>0.250169</td>\n",
              "      <td>0.0</td>\n",
              "      <td>0.0</td>\n",
              "      <td>0.261380</td>\n",
              "      <td>...</td>\n",
              "      <td>0.0</td>\n",
              "      <td>0.0</td>\n",
              "      <td>0.0</td>\n",
              "      <td>0.0</td>\n",
              "      <td>0.0</td>\n",
              "      <td>0.0</td>\n",
              "      <td>0.0</td>\n",
              "      <td>0.0</td>\n",
              "      <td>0.0</td>\n",
              "      <td>2.0</td>\n",
              "    </tr>\n",
              "    <tr>\n",
              "      <th>73395</th>\n",
              "      <td>1</td>\n",
              "      <td>21</td>\n",
              "      <td>115000.0</td>\n",
              "      <td>11</td>\n",
              "      <td>1</td>\n",
              "      <td>0.0</td>\n",
              "      <td>0.000000</td>\n",
              "      <td>0.0</td>\n",
              "      <td>0.0</td>\n",
              "      <td>0.247904</td>\n",
              "      <td>...</td>\n",
              "      <td>0.0</td>\n",
              "      <td>1.0</td>\n",
              "      <td>0.0</td>\n",
              "      <td>0.0</td>\n",
              "      <td>0.0</td>\n",
              "      <td>0.0</td>\n",
              "      <td>0.0</td>\n",
              "      <td>0.0</td>\n",
              "      <td>0.0</td>\n",
              "      <td>16.0</td>\n",
              "    </tr>\n",
              "    <tr>\n",
              "      <th>73396</th>\n",
              "      <td>1</td>\n",
              "      <td>4</td>\n",
              "      <td>57720.0</td>\n",
              "      <td>12</td>\n",
              "      <td>1</td>\n",
              "      <td>0.0</td>\n",
              "      <td>0.000000</td>\n",
              "      <td>0.0</td>\n",
              "      <td>0.0</td>\n",
              "      <td>0.000000</td>\n",
              "      <td>...</td>\n",
              "      <td>0.0</td>\n",
              "      <td>0.0</td>\n",
              "      <td>0.0</td>\n",
              "      <td>0.0</td>\n",
              "      <td>0.0</td>\n",
              "      <td>0.0</td>\n",
              "      <td>0.0</td>\n",
              "      <td>0.0</td>\n",
              "      <td>0.0</td>\n",
              "      <td>3.0</td>\n",
              "    </tr>\n",
              "    <tr>\n",
              "      <th>73397</th>\n",
              "      <td>1</td>\n",
              "      <td>5</td>\n",
              "      <td>70000.0</td>\n",
              "      <td>15</td>\n",
              "      <td>1</td>\n",
              "      <td>0.0</td>\n",
              "      <td>0.252840</td>\n",
              "      <td>0.0</td>\n",
              "      <td>0.0</td>\n",
              "      <td>0.264170</td>\n",
              "      <td>...</td>\n",
              "      <td>0.0</td>\n",
              "      <td>1.0</td>\n",
              "      <td>0.0</td>\n",
              "      <td>0.0</td>\n",
              "      <td>0.0</td>\n",
              "      <td>0.0</td>\n",
              "      <td>0.0</td>\n",
              "      <td>0.0</td>\n",
              "      <td>0.0</td>\n",
              "      <td>1.0</td>\n",
              "    </tr>\n",
              "    <tr>\n",
              "      <th>73398</th>\n",
              "      <td>1</td>\n",
              "      <td>10</td>\n",
              "      <td>75384.0</td>\n",
              "      <td>2</td>\n",
              "      <td>0</td>\n",
              "      <td>0.0</td>\n",
              "      <td>0.000000</td>\n",
              "      <td>0.0</td>\n",
              "      <td>0.0</td>\n",
              "      <td>0.000000</td>\n",
              "      <td>...</td>\n",
              "      <td>0.0</td>\n",
              "      <td>0.0</td>\n",
              "      <td>0.0</td>\n",
              "      <td>0.0</td>\n",
              "      <td>0.0</td>\n",
              "      <td>0.0</td>\n",
              "      <td>0.0</td>\n",
              "      <td>0.0</td>\n",
              "      <td>0.0</td>\n",
              "      <td>3.0</td>\n",
              "    </tr>\n",
              "  </tbody>\n",
              "</table>\n",
              "<p>73399 rows × 317 columns</p>\n",
              "</div>\n",
              "    <div class=\"colab-df-buttons\">\n",
              "\n",
              "  <div class=\"colab-df-container\">\n",
              "    <button class=\"colab-df-convert\" onclick=\"convertToInteractive('df-c6daebae-d883-4358-b96f-64a876484908')\"\n",
              "            title=\"Convert this dataframe to an interactive table.\"\n",
              "            style=\"display:none;\">\n",
              "\n",
              "  <svg xmlns=\"http://www.w3.org/2000/svg\" height=\"24px\" viewBox=\"0 -960 960 960\">\n",
              "    <path d=\"M120-120v-720h720v720H120Zm60-500h600v-160H180v160Zm220 220h160v-160H400v160Zm0 220h160v-160H400v160ZM180-400h160v-160H180v160Zm440 0h160v-160H620v160ZM180-180h160v-160H180v160Zm440 0h160v-160H620v160Z\"/>\n",
              "  </svg>\n",
              "    </button>\n",
              "\n",
              "  <style>\n",
              "    .colab-df-container {\n",
              "      display:flex;\n",
              "      gap: 12px;\n",
              "    }\n",
              "\n",
              "    .colab-df-convert {\n",
              "      background-color: #E8F0FE;\n",
              "      border: none;\n",
              "      border-radius: 50%;\n",
              "      cursor: pointer;\n",
              "      display: none;\n",
              "      fill: #1967D2;\n",
              "      height: 32px;\n",
              "      padding: 0 0 0 0;\n",
              "      width: 32px;\n",
              "    }\n",
              "\n",
              "    .colab-df-convert:hover {\n",
              "      background-color: #E2EBFA;\n",
              "      box-shadow: 0px 1px 2px rgba(60, 64, 67, 0.3), 0px 1px 3px 1px rgba(60, 64, 67, 0.15);\n",
              "      fill: #174EA6;\n",
              "    }\n",
              "\n",
              "    .colab-df-buttons div {\n",
              "      margin-bottom: 4px;\n",
              "    }\n",
              "\n",
              "    [theme=dark] .colab-df-convert {\n",
              "      background-color: #3B4455;\n",
              "      fill: #D2E3FC;\n",
              "    }\n",
              "\n",
              "    [theme=dark] .colab-df-convert:hover {\n",
              "      background-color: #434B5C;\n",
              "      box-shadow: 0px 1px 3px 1px rgba(0, 0, 0, 0.15);\n",
              "      filter: drop-shadow(0px 1px 2px rgba(0, 0, 0, 0.3));\n",
              "      fill: #FFFFFF;\n",
              "    }\n",
              "  </style>\n",
              "\n",
              "    <script>\n",
              "      const buttonEl =\n",
              "        document.querySelector('#df-c6daebae-d883-4358-b96f-64a876484908 button.colab-df-convert');\n",
              "      buttonEl.style.display =\n",
              "        google.colab.kernel.accessAllowed ? 'block' : 'none';\n",
              "\n",
              "      async function convertToInteractive(key) {\n",
              "        const element = document.querySelector('#df-c6daebae-d883-4358-b96f-64a876484908');\n",
              "        const dataTable =\n",
              "          await google.colab.kernel.invokeFunction('convertToInteractive',\n",
              "                                                    [key], {});\n",
              "        if (!dataTable) return;\n",
              "\n",
              "        const docLinkHtml = 'Like what you see? Visit the ' +\n",
              "          '<a target=\"_blank\" href=https://colab.research.google.com/notebooks/data_table.ipynb>data table notebook</a>'\n",
              "          + ' to learn more about interactive tables.';\n",
              "        element.innerHTML = '';\n",
              "        dataTable['output_type'] = 'display_data';\n",
              "        await google.colab.output.renderOutput(dataTable, element);\n",
              "        const docLink = document.createElement('div');\n",
              "        docLink.innerHTML = docLinkHtml;\n",
              "        element.appendChild(docLink);\n",
              "      }\n",
              "    </script>\n",
              "  </div>\n",
              "\n",
              "\n",
              "<div id=\"df-0710c356-c8dc-42b6-8309-eba93b8cee72\">\n",
              "  <button class=\"colab-df-quickchart\" onclick=\"quickchart('df-0710c356-c8dc-42b6-8309-eba93b8cee72')\"\n",
              "            title=\"Suggest charts\"\n",
              "            style=\"display:none;\">\n",
              "\n",
              "<svg xmlns=\"http://www.w3.org/2000/svg\" height=\"24px\"viewBox=\"0 0 24 24\"\n",
              "     width=\"24px\">\n",
              "    <g>\n",
              "        <path d=\"M19 3H5c-1.1 0-2 .9-2 2v14c0 1.1.9 2 2 2h14c1.1 0 2-.9 2-2V5c0-1.1-.9-2-2-2zM9 17H7v-7h2v7zm4 0h-2V7h2v10zm4 0h-2v-4h2v4z\"/>\n",
              "    </g>\n",
              "</svg>\n",
              "  </button>\n",
              "\n",
              "<style>\n",
              "  .colab-df-quickchart {\n",
              "      --bg-color: #E8F0FE;\n",
              "      --fill-color: #1967D2;\n",
              "      --hover-bg-color: #E2EBFA;\n",
              "      --hover-fill-color: #174EA6;\n",
              "      --disabled-fill-color: #AAA;\n",
              "      --disabled-bg-color: #DDD;\n",
              "  }\n",
              "\n",
              "  [theme=dark] .colab-df-quickchart {\n",
              "      --bg-color: #3B4455;\n",
              "      --fill-color: #D2E3FC;\n",
              "      --hover-bg-color: #434B5C;\n",
              "      --hover-fill-color: #FFFFFF;\n",
              "      --disabled-bg-color: #3B4455;\n",
              "      --disabled-fill-color: #666;\n",
              "  }\n",
              "\n",
              "  .colab-df-quickchart {\n",
              "    background-color: var(--bg-color);\n",
              "    border: none;\n",
              "    border-radius: 50%;\n",
              "    cursor: pointer;\n",
              "    display: none;\n",
              "    fill: var(--fill-color);\n",
              "    height: 32px;\n",
              "    padding: 0;\n",
              "    width: 32px;\n",
              "  }\n",
              "\n",
              "  .colab-df-quickchart:hover {\n",
              "    background-color: var(--hover-bg-color);\n",
              "    box-shadow: 0 1px 2px rgba(60, 64, 67, 0.3), 0 1px 3px 1px rgba(60, 64, 67, 0.15);\n",
              "    fill: var(--button-hover-fill-color);\n",
              "  }\n",
              "\n",
              "  .colab-df-quickchart-complete:disabled,\n",
              "  .colab-df-quickchart-complete:disabled:hover {\n",
              "    background-color: var(--disabled-bg-color);\n",
              "    fill: var(--disabled-fill-color);\n",
              "    box-shadow: none;\n",
              "  }\n",
              "\n",
              "  .colab-df-spinner {\n",
              "    border: 2px solid var(--fill-color);\n",
              "    border-color: transparent;\n",
              "    border-bottom-color: var(--fill-color);\n",
              "    animation:\n",
              "      spin 1s steps(1) infinite;\n",
              "  }\n",
              "\n",
              "  @keyframes spin {\n",
              "    0% {\n",
              "      border-color: transparent;\n",
              "      border-bottom-color: var(--fill-color);\n",
              "      border-left-color: var(--fill-color);\n",
              "    }\n",
              "    20% {\n",
              "      border-color: transparent;\n",
              "      border-left-color: var(--fill-color);\n",
              "      border-top-color: var(--fill-color);\n",
              "    }\n",
              "    30% {\n",
              "      border-color: transparent;\n",
              "      border-left-color: var(--fill-color);\n",
              "      border-top-color: var(--fill-color);\n",
              "      border-right-color: var(--fill-color);\n",
              "    }\n",
              "    40% {\n",
              "      border-color: transparent;\n",
              "      border-right-color: var(--fill-color);\n",
              "      border-top-color: var(--fill-color);\n",
              "    }\n",
              "    60% {\n",
              "      border-color: transparent;\n",
              "      border-right-color: var(--fill-color);\n",
              "    }\n",
              "    80% {\n",
              "      border-color: transparent;\n",
              "      border-right-color: var(--fill-color);\n",
              "      border-bottom-color: var(--fill-color);\n",
              "    }\n",
              "    90% {\n",
              "      border-color: transparent;\n",
              "      border-bottom-color: var(--fill-color);\n",
              "    }\n",
              "  }\n",
              "</style>\n",
              "\n",
              "  <script>\n",
              "    async function quickchart(key) {\n",
              "      const quickchartButtonEl =\n",
              "        document.querySelector('#' + key + ' button');\n",
              "      quickchartButtonEl.disabled = true;  // To prevent multiple clicks.\n",
              "      quickchartButtonEl.classList.add('colab-df-spinner');\n",
              "      try {\n",
              "        const charts = await google.colab.kernel.invokeFunction(\n",
              "            'suggestCharts', [key], {});\n",
              "      } catch (error) {\n",
              "        console.error('Error during call to suggestCharts:', error);\n",
              "      }\n",
              "      quickchartButtonEl.classList.remove('colab-df-spinner');\n",
              "      quickchartButtonEl.classList.add('colab-df-quickchart-complete');\n",
              "    }\n",
              "    (() => {\n",
              "      let quickchartButtonEl =\n",
              "        document.querySelector('#df-0710c356-c8dc-42b6-8309-eba93b8cee72 button');\n",
              "      quickchartButtonEl.style.display =\n",
              "        google.colab.kernel.accessAllowed ? 'block' : 'none';\n",
              "    })();\n",
              "  </script>\n",
              "</div>\n",
              "\n",
              "  <div id=\"id_8fb6b2b7-63a3-4159-9e74-02fe3844a7db\">\n",
              "    <style>\n",
              "      .colab-df-generate {\n",
              "        background-color: #E8F0FE;\n",
              "        border: none;\n",
              "        border-radius: 50%;\n",
              "        cursor: pointer;\n",
              "        display: none;\n",
              "        fill: #1967D2;\n",
              "        height: 32px;\n",
              "        padding: 0 0 0 0;\n",
              "        width: 32px;\n",
              "      }\n",
              "\n",
              "      .colab-df-generate:hover {\n",
              "        background-color: #E2EBFA;\n",
              "        box-shadow: 0px 1px 2px rgba(60, 64, 67, 0.3), 0px 1px 3px 1px rgba(60, 64, 67, 0.15);\n",
              "        fill: #174EA6;\n",
              "      }\n",
              "\n",
              "      [theme=dark] .colab-df-generate {\n",
              "        background-color: #3B4455;\n",
              "        fill: #D2E3FC;\n",
              "      }\n",
              "\n",
              "      [theme=dark] .colab-df-generate:hover {\n",
              "        background-color: #434B5C;\n",
              "        box-shadow: 0px 1px 3px 1px rgba(0, 0, 0, 0.15);\n",
              "        filter: drop-shadow(0px 1px 2px rgba(0, 0, 0, 0.3));\n",
              "        fill: #FFFFFF;\n",
              "      }\n",
              "    </style>\n",
              "    <button class=\"colab-df-generate\" onclick=\"generateWithVariable('merged_data')\"\n",
              "            title=\"Generate code using this dataframe.\"\n",
              "            style=\"display:none;\">\n",
              "\n",
              "  <svg xmlns=\"http://www.w3.org/2000/svg\" height=\"24px\"viewBox=\"0 0 24 24\"\n",
              "       width=\"24px\">\n",
              "    <path d=\"M7,19H8.4L18.45,9,17,7.55,7,17.6ZM5,21V16.75L18.45,3.32a2,2,0,0,1,2.83,0l1.4,1.43a1.91,1.91,0,0,1,.58,1.4,1.91,1.91,0,0,1-.58,1.4L9.25,21ZM18.45,9,17,7.55Zm-12,3A5.31,5.31,0,0,0,4.9,8.1,5.31,5.31,0,0,0,1,6.5,5.31,5.31,0,0,0,4.9,4.9,5.31,5.31,0,0,0,6.5,1,5.31,5.31,0,0,0,8.1,4.9,5.31,5.31,0,0,0,12,6.5,5.46,5.46,0,0,0,6.5,12Z\"/>\n",
              "  </svg>\n",
              "    </button>\n",
              "    <script>\n",
              "      (() => {\n",
              "      const buttonEl =\n",
              "        document.querySelector('#id_8fb6b2b7-63a3-4159-9e74-02fe3844a7db button.colab-df-generate');\n",
              "      buttonEl.style.display =\n",
              "        google.colab.kernel.accessAllowed ? 'block' : 'none';\n",
              "\n",
              "      buttonEl.onclick = () => {\n",
              "        google.colab.notebook.generateWithVariable('merged_data');\n",
              "      }\n",
              "      })();\n",
              "    </script>\n",
              "  </div>\n",
              "\n",
              "    </div>\n",
              "  </div>\n"
            ],
            "application/vnd.google.colaboratory.intrinsic+json": {
              "type": "dataframe",
              "variable_name": "merged_data"
            }
          },
          "metadata": {},
          "execution_count": 26
        }
      ]
    },
    {
      "cell_type": "code",
      "source": [
        "merged_data.columns = merged_data.columns.str.replace('[', '_').str.replace(']', '_').str.replace('<', '_')\n",
        "X = merged_data.drop(columns='Employed')\n",
        "y = merged_data['Employed']"
      ],
      "metadata": {
        "id": "04fE71AQK5QM"
      },
      "execution_count": null,
      "outputs": []
    },
    {
      "cell_type": "markdown",
      "source": [
        "# Ray for Hyperparameter Tuning"
      ],
      "metadata": {
        "id": "CnXEHtm4T005"
      }
    },
    {
      "cell_type": "markdown",
      "source": [
        "Sequential (Without Ray)\n",
        "- - -"
      ],
      "metadata": {
        "id": "d7YgZyk8T6Q_"
      }
    },
    {
      "cell_type": "code",
      "source": [
        "param_grid = {\n",
        "    'criterion': ['gini', 'entropy'],\n",
        "    'splitter': ['best'],\n",
        "    'max_depth': [None],\n",
        "    'min_samples_split': [2, 10],\n",
        "    'min_samples_leaf': [1, 4],\n",
        "    'min_weight_fraction_leaf': [0],\n",
        "    'max_features': [None, 'log2'],\n",
        "    'random_state': [None]\n",
        "}\n",
        "\n",
        "X = merged_data.drop(columns='Employed')\n",
        "y = merged_data['Employed']\n",
        "\n",
        "X_train, X_test, y_train, y_test = train_test_split(X, y, test_size=0.2, random_state=42)\n",
        "\n",
        "model = DecisionTreeClassifier()\n",
        "\n",
        "start_time = time.time()\n",
        "\n",
        "# Hyperparameter Tuning\n",
        "search = GridSearchCV(model, param_grid=param_grid, cv=5, scoring='f1_macro')\n",
        "search.fit(X_train, y_train)\n",
        "\n",
        "best_model = search.best_estimator_\n",
        "\n",
        "print(\"Best Hyperparameters:\", search.best_params_)\n",
        "\n",
        "best_model.fit(X_train, y_train)\n",
        "\n",
        "y_pred_test = best_model.predict(X_test)\n",
        "\n",
        "f1_test = f1_score(y_test, y_pred_test, average='macro')\n",
        "\n",
        "time_delta = time.time() - start_time\n",
        "\n",
        "print(\"f1 score test:\", f1_test)\n",
        "print(\"Run time:\", time_delta)"
      ],
      "metadata": {
        "colab": {
          "base_uri": "https://localhost:8080/"
        },
        "id": "l4MFU4zKT9ua",
        "outputId": "b96d7a8b-a174-4951-cc10-164b793d0eb5"
      },
      "execution_count": null,
      "outputs": [
        {
          "output_type": "stream",
          "name": "stdout",
          "text": [
            "Best Hyperparameters: {'criterion': 'gini', 'max_depth': None, 'max_features': None, 'min_samples_leaf': 4, 'min_samples_split': 10, 'min_weight_fraction_leaf': 0, 'random_state': None, 'splitter': 'best'}\n",
            "f1 score train: 0.9853189158693128\n",
            "f1 score test: 0.9693555693330244\n",
            "Run time: 115.05536413192749\n"
          ]
        }
      ]
    },
    {
      "cell_type": "markdown",
      "source": [
        "Note : Run time 115s"
      ],
      "metadata": {
        "id": "DanmEVgVW-EU"
      }
    },
    {
      "cell_type": "markdown",
      "source": [
        "Paralel (Using Ray)\n",
        "- - -"
      ],
      "metadata": {
        "id": "Gyr3kpe6Ud7t"
      }
    },
    {
      "cell_type": "code",
      "source": [
        "# Initialize Ray\n",
        "ray.init(ignore_reinit_error=True)\n",
        "register_ray()\n",
        "\n",
        "param_grid = {\n",
        "    'criterion': ['gini', 'entropy'],\n",
        "    'splitter': ['best'],\n",
        "    'max_depth': [None],\n",
        "    'min_samples_split': [2, 10],\n",
        "    'min_samples_leaf': [1, 4],\n",
        "    'min_weight_fraction_leaf': [0],\n",
        "    'max_features': [None, 'log2'],\n",
        "    'random_state': [None]\n",
        "}\n",
        "\n",
        "model = DecisionTreeClassifier()\n",
        "\n",
        "start_time = time.time()\n",
        "\n",
        "with joblib.parallel_backend('ray'):\n",
        "    search = GridSearchCV(model, param_grid=param_grid, cv=5, scoring='f1_macro')\n",
        "    search.fit(X_train, y_train)\n",
        "\n",
        "best_model = search.best_estimator_\n",
        "\n",
        "print(\"Best Hyperparameters:\", search.best_params_)\n",
        "\n",
        "best_model.fit(X_train, y_train)\n",
        "\n",
        "y_pred_train = best_model.predict(X_train)\n",
        "y_pred_test = best_model.predict(X_test)\n",
        "\n",
        "f1_train = f1_score(y_train, y_pred_train, average='macro')\n",
        "f1_test = f1_score(y_test, y_pred_test, average='macro')\n",
        "\n",
        "time_delta = time.time() - start_time\n",
        "\n",
        "print(\"f1 score train:\", f1_train)\n",
        "print(\"f1 score test:\", f1_test)\n",
        "print(\"Run time:\", time_delta)\n",
        "\n",
        "# Shutdown Ray\n",
        "ray.shutdown()\n"
      ],
      "metadata": {
        "colab": {
          "base_uri": "https://localhost:8080/"
        },
        "id": "nkGmQ1LpUgf-",
        "outputId": "b7ee8169-f894-4416-b670-a33a20d714a2"
      },
      "execution_count": null,
      "outputs": [
        {
          "output_type": "stream",
          "name": "stderr",
          "text": [
            "2024-07-11 04:02:25,722\tINFO worker.py:1779 -- Started a local Ray instance. View the dashboard at \u001b[1m\u001b[32m127.0.0.1:8265 \u001b[39m\u001b[22m\n"
          ]
        },
        {
          "output_type": "stream",
          "name": "stdout",
          "text": [
            "Best Hyperparameters: {'criterion': 'gini', 'max_depth': None, 'max_features': None, 'min_samples_leaf': 4, 'min_samples_split': 10, 'min_weight_fraction_leaf': 0, 'random_state': None, 'splitter': 'best'}\n",
            "f1 score train: 0.9853700076520305\n",
            "f1 score test: 0.9690825017497842\n",
            "Run time: 96.5391104221344\n"
          ]
        }
      ]
    },
    {
      "cell_type": "markdown",
      "source": [
        "Note : Rune time: 96s"
      ],
      "metadata": {
        "id": "OarYXfRJeCZR"
      }
    },
    {
      "cell_type": "markdown",
      "source": [
        "# Hasil Run time for Tuning Hyperparameter\n",
        "\n",
        "| Data | Dimension | Using Ray (s) | Serial (s) | Perbandingan | Peningkatan (%)  \n",
        "|----------|----------|:----------:|:---------:|:----------:|:----------:\n",
        "| job_application | 73399 rows × 317 columns | 96 | 115 |0.8347x | 16.52"
      ],
      "metadata": {
        "id": "4MzaB3nDwa-U"
      }
    },
    {
      "cell_type": "markdown",
      "source": [
        "# Ray for Comparing 1 model"
      ],
      "metadata": {
        "id": "QKfs84wMU15O"
      }
    },
    {
      "cell_type": "markdown",
      "source": [
        "First Dataset (20.640 rows × 8 columns)\n",
        "---"
      ],
      "metadata": {
        "id": "bEoMA8gY7GIr"
      }
    },
    {
      "cell_type": "markdown",
      "source": [
        "Sequential (Without Ray)\n",
        "- - -"
      ],
      "metadata": {
        "id": "Wiw9Nf5Y6bNv"
      }
    },
    {
      "cell_type": "code",
      "source": [
        "from sklearn.linear_model import LinearRegression\n",
        "from sklearn.datasets import fetch_california_housing\n",
        "from sklearn.model_selection import train_test_split\n",
        "\n",
        "california_housing = fetch_california_housing()\n",
        "X_california = california_housing.data\n",
        "y_california = california_housing.target\n",
        "\n",
        "X_train, X_test, y_train, y_test = train_test_split(X_california, y_california, test_size=0.2, random_state=42)\n",
        "\n",
        "start_time = time.time()\n",
        "\n",
        "model = LinearRegression()\n",
        "model.fit(X_train, y_train)\n",
        "\n",
        "delta_time = time.time() - start_time\n",
        "\n",
        "accuracy = model.score(X_test, y_test)\n",
        "print(f'Accuracy without Ray: {accuracy}')\n",
        "print(\"Run time:\", delta_time)"
      ],
      "metadata": {
        "colab": {
          "base_uri": "https://localhost:8080/"
        },
        "id": "a4NqBne51BEL",
        "outputId": "4eca6259-e8d8-4222-8be5-4f927fc58eca"
      },
      "execution_count": null,
      "outputs": [
        {
          "output_type": "stream",
          "name": "stdout",
          "text": [
            "Accuracy without Ray: 0.5757877060324524\n",
            "Run time: 0.005457401275634766\n"
          ]
        }
      ]
    },
    {
      "cell_type": "markdown",
      "source": [
        "Note: Run time: 0.04s"
      ],
      "metadata": {
        "id": "bcTYYhJ_6EZf"
      }
    },
    {
      "cell_type": "markdown",
      "source": [
        "Paralel (Using Ray)\n",
        "- - -"
      ],
      "metadata": {
        "id": "XjboHt6t85v4"
      }
    },
    {
      "cell_type": "code",
      "source": [
        "from sklearn.linear_model import LinearRegression\n",
        "from sklearn.datasets import fetch_california_housing\n",
        "\n",
        "# Initialize Ray\n",
        "ray.init()\n",
        "\n",
        "@ray.remote\n",
        "def train_model(X_train, y_train):\n",
        "    model = LinearRegression()\n",
        "    model.fit(X_train, y_train)\n",
        "    return model\n",
        "\n",
        "california_housing = fetch_california_housing()\n",
        "X_california = california_housing.data\n",
        "y_california = california_housing.target\n",
        "\n",
        "X_train, X_test, y_train, y_test = train_test_split(X_california, y_california, test_size=0.2, random_state=42)\n",
        "\n",
        "start_time = time.time()\n",
        "\n",
        "model_ref = train_model.remote(X_train, y_train)\n",
        "model = ray.get(model_ref)\n",
        "\n",
        "delta_time = time.time() - start_time\n",
        "\n",
        "r_squared = model.score(X_test, y_test)\n",
        "\n",
        "print(f'R-squared with Ray: {r_squared}')\n",
        "print(\"Run time:\", delta_time)\n",
        "\n",
        "# Shutdown Ray\n",
        "ray.shutdown()"
      ],
      "metadata": {
        "colab": {
          "base_uri": "https://localhost:8080/"
        },
        "id": "_3Bh9_ja2FIY",
        "outputId": "35e5f012-d52a-4b85-c124-d2b51ef9a299"
      },
      "execution_count": null,
      "outputs": [
        {
          "output_type": "stream",
          "name": "stderr",
          "text": [
            "2024-07-12 02:08:06,197\tINFO worker.py:1788 -- Started a local Ray instance.\n"
          ]
        },
        {
          "output_type": "stream",
          "name": "stdout",
          "text": [
            "R-squared with Ray: 0.5757877060324524\n",
            "Run time: 0.9055943489074707\n"
          ]
        }
      ]
    },
    {
      "cell_type": "markdown",
      "source": [
        "Note: Run time: 1.2s"
      ],
      "metadata": {
        "id": "-Ks4G2yg6G-m"
      }
    },
    {
      "cell_type": "markdown",
      "source": [
        "Second Dataset (73399 rows × 317 columns)\n",
        "----"
      ],
      "metadata": {
        "id": "lbK_KyT26mq9"
      }
    },
    {
      "cell_type": "markdown",
      "source": [
        "Sequential (Without Ray)\n",
        "- - -"
      ],
      "metadata": {
        "id": "HljSSl0TpOdS"
      }
    },
    {
      "cell_type": "code",
      "source": [
        "import time\n",
        "\n",
        "X_train, X_test, y_train, y_test = train_test_split(X, y, test_size=0.2, random_state=42)\n",
        "\n",
        "start_time = time.time()\n",
        "\n",
        "model = LogisticRegression(max_iter=200)\n",
        "model.fit(X_train, y_train)\n",
        "\n",
        "time_delta = time.time() - start_time\n",
        "\n",
        "accuracy = model.score(X_test, y_test)\n",
        "print(f'Accuracy without Ray: {accuracy}')\n",
        "print(\"Run time:\", time_delta)"
      ],
      "metadata": {
        "colab": {
          "base_uri": "https://localhost:8080/"
        },
        "id": "XLT2lfGQVdEK",
        "outputId": "5a89d1ae-8294-4c99-9208-ca3c7137763f"
      },
      "execution_count": null,
      "outputs": [
        {
          "output_type": "stream",
          "name": "stdout",
          "text": [
            "Accuracy without Ray: 0.6722070844686648\n",
            "Run time: 2.1381962299346924\n"
          ]
        }
      ]
    },
    {
      "cell_type": "markdown",
      "source": [
        "Note : Run time : 2.1s"
      ],
      "metadata": {
        "id": "HiMm3A87hgxS"
      }
    },
    {
      "cell_type": "markdown",
      "source": [
        "Paralel (Using Ray)\n",
        "- - -"
      ],
      "metadata": {
        "id": "7zMrukBNVfwQ"
      }
    },
    {
      "cell_type": "code",
      "source": [
        "# Initialize Ray\n",
        "ray.init()\n",
        "\n",
        "@ray.remote\n",
        "def train_model(X_train, y_train):\n",
        "    model = LogisticRegression(max_iter=200)\n",
        "    model.fit(X_train, y_train)\n",
        "    return model\n",
        "\n",
        "\n",
        "X_train, X_test, y_train, y_test = train_test_split(X, y, test_size=0.2, random_state=42)\n",
        "\n",
        "start_time = time.time()\n",
        "\n",
        "model_ref = train_model.remote(X_train, y_train)\n",
        "model = ray.get(model_ref)\n",
        "\n",
        "time_delta = time.time() - start_time\n",
        "\n",
        "accuracy = model.score(X_test, y_test)\n",
        "print(f'Accuracy with Ray: {accuracy}')\n",
        "print(\"Run time:\", time_delta)\n",
        "\n",
        "# Shutdown Ray\n",
        "ray.shutdown()"
      ],
      "metadata": {
        "colab": {
          "base_uri": "https://localhost:8080/"
        },
        "id": "VFppYEJ7VfCt",
        "outputId": "8bf6de52-1c35-48b9-d5aa-f76d42ef70b2"
      },
      "execution_count": null,
      "outputs": [
        {
          "output_type": "stream",
          "name": "stderr",
          "text": [
            "2024-07-11 02:53:36,469\tINFO worker.py:1779 -- Started a local Ray instance. View the dashboard at \u001b[1m\u001b[32m127.0.0.1:8265 \u001b[39m\u001b[22m\n"
          ]
        },
        {
          "output_type": "stream",
          "name": "stdout",
          "text": [
            "Accuracy with Ray: 0.6722070844686648\n",
            "Run time: 3.3988559246063232\n"
          ]
        }
      ]
    },
    {
      "cell_type": "markdown",
      "source": [
        "Note : Run time : 3.5s"
      ],
      "metadata": {
        "id": "J8Y6ABAehjNV"
      }
    },
    {
      "cell_type": "markdown",
      "source": [
        "Third Dataset (581012 rows × 54 columns)\n",
        "---"
      ],
      "metadata": {
        "id": "DvKQniqDbESM"
      }
    },
    {
      "cell_type": "markdown",
      "source": [
        "Sequential (Without Ray)\n",
        "- - -"
      ],
      "metadata": {
        "id": "vD12gH4UqyKz"
      }
    },
    {
      "cell_type": "code",
      "source": [
        "from sklearn.datasets import fetch_covtype\n",
        "\n",
        "data = fetch_covtype()\n",
        "X = data.data\n",
        "y = data.target\n",
        "\n",
        "X_train, X_test, y_train, y_test = train_test_split(X, y, test_size=0.2, random_state=42)\n",
        "\n",
        "start_time = time.time()\n",
        "\n",
        "model = LogisticRegression(max_iter=200)\n",
        "model.fit(X_train, y_train)\n",
        "\n",
        "delta_time = time.time() - start_time\n",
        "\n",
        "accuracy = model.score(X_test, y_test)\n",
        "print(f'Accuracy without Ray: {accuracy}')\n",
        "print(\"Run time:\", delta_time)"
      ],
      "metadata": {
        "colab": {
          "base_uri": "https://localhost:8080/"
        },
        "id": "01CYbSILbLvZ",
        "outputId": "f96d6da3-3653-4a30-c1bf-9dd6af6f46af"
      },
      "execution_count": null,
      "outputs": [
        {
          "output_type": "stream",
          "name": "stdout",
          "text": [
            "Accuracy without Ray: 0.6450005593659371\n",
            "Run time: 65.14412069320679\n"
          ]
        },
        {
          "output_type": "stream",
          "name": "stderr",
          "text": [
            "/usr/local/lib/python3.10/dist-packages/sklearn/linear_model/_logistic.py:458: ConvergenceWarning: lbfgs failed to converge (status=1):\n",
            "STOP: TOTAL NO. of ITERATIONS REACHED LIMIT.\n",
            "\n",
            "Increase the number of iterations (max_iter) or scale the data as shown in:\n",
            "    https://scikit-learn.org/stable/modules/preprocessing.html\n",
            "Please also refer to the documentation for alternative solver options:\n",
            "    https://scikit-learn.org/stable/modules/linear_model.html#logistic-regression\n",
            "  n_iter_i = _check_optimize_result(\n"
          ]
        }
      ]
    },
    {
      "cell_type": "markdown",
      "source": [
        "Note: Run time: 65s"
      ],
      "metadata": {
        "id": "DCg0cE4bu7ut"
      }
    },
    {
      "cell_type": "markdown",
      "source": [
        "Paralel (Using Ray)\n",
        "- - -"
      ],
      "metadata": {
        "id": "zIZT9n6P6_1B"
      }
    },
    {
      "cell_type": "code",
      "source": [
        "from sklearn.linear_model import LogisticRegression\n",
        "from sklearn.datasets import fetch_covtype\n",
        "from sklearn.model_selection import train_test_split\n",
        "\n",
        "# Initialize Ray\n",
        "ray.init()\n",
        "\n",
        "# Define a function to train a logistic regression model\n",
        "@ray.remote\n",
        "def train_model(X_train, y_train):\n",
        "    model = LogisticRegression(max_iter=200)\n",
        "    model.fit(X_train, y_train)\n",
        "    return model\n",
        "\n",
        "# Load a large dataset\n",
        "data = fetch_covtype()\n",
        "X = data.data\n",
        "y = data.target\n",
        "\n",
        "# Split dataset into training and testing sets\n",
        "X_train, X_test, y_train, y_test = train_test_split(X, y, test_size=0.2, random_state=42)\n",
        "\n",
        "start_time = time.time()\n",
        "\n",
        "# Train logistic regression model in parallel using Ray\n",
        "model_ref = train_model.remote(X_train, y_train)\n",
        "model = ray.get(model_ref)\n",
        "\n",
        "delta_time = time.time() - start_time\n",
        "\n",
        "# Evaluate the model\n",
        "accuracy = model.score(X_test, y_test)\n",
        "\n",
        "print(f'Accuracy with Ray: {accuracy}')\n",
        "print(\"Run time:\", delta_time)\n",
        "\n",
        "# Shutdown Ray\n",
        "ray.shutdown()"
      ],
      "metadata": {
        "colab": {
          "base_uri": "https://localhost:8080/"
        },
        "id": "FB1h8jLhbiDK",
        "outputId": "7d52fed0-4066-4e7a-edcf-79eeca8fe1b2"
      },
      "execution_count": null,
      "outputs": [
        {
          "output_type": "stream",
          "name": "stderr",
          "text": [
            "2024-07-11 02:54:54,507\tINFO worker.py:1779 -- Started a local Ray instance. View the dashboard at \u001b[1m\u001b[32m127.0.0.1:8265 \u001b[39m\u001b[22m\n",
            "\u001b[36m(train_model pid=22579)\u001b[0m /usr/local/lib/python3.10/dist-packages/sklearn/linear_model/_logistic.py:458: ConvergenceWarning: lbfgs failed to converge (status=1):\n",
            "\u001b[36m(train_model pid=22579)\u001b[0m STOP: TOTAL NO. of ITERATIONS REACHED LIMIT.\n",
            "\u001b[36m(train_model pid=22579)\u001b[0m \n",
            "\u001b[36m(train_model pid=22579)\u001b[0m Increase the number of iterations (max_iter) or scale the data as shown in:\n",
            "\u001b[36m(train_model pid=22579)\u001b[0m     https://scikit-learn.org/stable/modules/preprocessing.html\n",
            "\u001b[36m(train_model pid=22579)\u001b[0m Please also refer to the documentation for alternative solver options:\n",
            "\u001b[36m(train_model pid=22579)\u001b[0m     https://scikit-learn.org/stable/modules/linear_model.html#logistic-regression\n",
            "\u001b[36m(train_model pid=22579)\u001b[0m   n_iter_i = _check_optimize_result(\n"
          ]
        },
        {
          "output_type": "stream",
          "name": "stdout",
          "text": [
            "Accuracy with Ray: 0.6462655869469807\n",
            "Run time: 61.755223512649536\n"
          ]
        }
      ]
    },
    {
      "cell_type": "markdown",
      "source": [
        "Note: Run time: 61s\n",
        "\n"
      ],
      "metadata": {
        "id": "1yx0nP-xu_ZG"
      }
    },
    {
      "cell_type": "markdown",
      "source": [
        "# Hasil Run time for Modeling\n",
        "\n",
        "| Data | Dimension | Using Ray (s) | Serial (s) | Perbandingan | Peningkatan (%)|\n",
        "|:----------:|:----------:|:----------:|:----------:|:----------:|:----------:|\n",
        "| california_housing |20.640 rows × 8 columns  | 1.2 | 0.04 | 30x | -2900 |\n",
        "| job_application |73399 rows × 317 columns | 3.5 | 2.1 | 1.6x | -66 |\n",
        "| covtype |581012 rows × 54 columns | 61 | 65 | 0.94x | 6.1 |"
      ],
      "metadata": {
        "id": "Bs2-EPWvwCZV"
      }
    },
    {
      "cell_type": "markdown",
      "source": [
        "# Ray for Comparing Many Models\n"
      ],
      "metadata": {
        "id": "h_dIzhDDUxqY"
      }
    },
    {
      "cell_type": "markdown",
      "source": [
        "First Dataset (20.640 rows × 8 columns)\n",
        "---"
      ],
      "metadata": {
        "id": "SiFNecHo8uO6"
      }
    },
    {
      "cell_type": "markdown",
      "source": [
        "Sequential (Without Ray)\n",
        "- - -"
      ],
      "metadata": {
        "id": "Ur0oe8mg8-Nv"
      }
    },
    {
      "cell_type": "code",
      "source": [
        "from sklearn.linear_model import LinearRegression\n",
        "from sklearn.datasets import fetch_california_housing\n",
        "from sklearn.model_selection import train_test_split\n",
        "from sklearn.metrics import mean_squared_error\n",
        "from sklearn.ensemble import RandomForestRegressor\n",
        "\n",
        "california_housing = fetch_california_housing()\n",
        "X_california = california_housing.data\n",
        "y_california = california_housing.target\n",
        "\n",
        "X_train, X_test, y_train, y_test = train_test_split(X_california, y_california, test_size=0.2, random_state=42)\n",
        "\n",
        "models = {\n",
        "    'Random Forest Regressor': RandomForestRegressor(n_estimators=100, random_state=42),\n",
        "    'Linear Regression': LinearRegression()\n",
        "}\n",
        "\n",
        "start_time = time.time()\n",
        "\n",
        "def train_and_evaluate_model(model_name, X_train, y_train, X_test, y_test):\n",
        "    if model_name == 'Random Forest Regressor':\n",
        "        model = RandomForestRegressor(n_estimators=100, random_state=42)\n",
        "    elif model_name == 'Linear Regression':\n",
        "        model = LinearRegression()\n",
        "\n",
        "    model.fit(X_train, y_train)\n",
        "    y_pred = model.predict(X_test)\n",
        "\n",
        "    if model_name == 'Random Forest Regressor':\n",
        "        mse = mean_squared_error(y_test, y_pred)\n",
        "        return f\"MSE: {mse}\"\n",
        "    elif model_name == 'Linear Regression':\n",
        "        mse = mean_squared_error(y_test, y_pred)\n",
        "        return f\"MSE: {mse}\"\n",
        "\n",
        "# Initialize a dictionary to store results\n",
        "results = {}\n",
        "\n",
        "for model_name in models.keys():\n",
        "    result = train_and_evaluate_model(model_name, X_train, y_train, X_test, y_test)\n",
        "    results[model_name] = result\n",
        "\n",
        "time_delta = time.time() - start_time\n",
        "\n",
        "for model_name, result in results.items():\n",
        "    print(f\"Test results for {model_name}: {result}\")\n",
        "\n",
        "print(\"Run time:\", time_delta)\n"
      ],
      "metadata": {
        "colab": {
          "base_uri": "https://localhost:8080/"
        },
        "id": "74_clPy09EFi",
        "outputId": "eef40fbb-ef33-485e-eaef-d99f6e0a278b"
      },
      "execution_count": null,
      "outputs": [
        {
          "output_type": "stream",
          "name": "stdout",
          "text": [
            "Test results for Random Forest Regressor: MSE: 0.2553684927247781\n",
            "Test results for Linear Regression: MSE: 0.5558915986952422\n",
            "Run time: 14.082176923751831\n"
          ]
        }
      ]
    },
    {
      "cell_type": "markdown",
      "source": [
        "Note: Run time: 14s"
      ],
      "metadata": {
        "id": "LiXAJOszEt86"
      }
    },
    {
      "cell_type": "markdown",
      "source": [
        "Paralel (Using Ray)\n",
        "- - -"
      ],
      "metadata": {
        "id": "JrLqmC909EUm"
      }
    },
    {
      "cell_type": "code",
      "source": [
        "from sklearn.linear_model import LinearRegression\n",
        "from sklearn.datasets import fetch_california_housing\n",
        "from sklearn.model_selection import train_test_split\n",
        "from sklearn.metrics import mean_squared_error, accuracy_score\n",
        "from sklearn.ensemble import RandomForestRegressor\n",
        "\n",
        "# Initialize Ray\n",
        "ray.init(ignore_reinit_error=True)\n",
        "\n",
        "california_housing = fetch_california_housing()\n",
        "X_california = california_housing.data\n",
        "y_california = california_housing.target\n",
        "\n",
        "X_train, X_test, y_train, y_test = train_test_split(X_california, y_california, test_size=0.2, random_state=42)\n",
        "\n",
        "models = {\n",
        "    'Random Forest Regressor': RandomForestRegressor(n_estimators=100, random_state=42),\n",
        "    'Linear Regression': LinearRegression()\n",
        "}\n",
        "\n",
        "start_time = time.time()\n",
        "\n",
        "@ray.remote\n",
        "def train_and_evaluate_model(model_name, X_train, y_train, X_test, y_test):\n",
        "    if model_name == 'Random Forest Regressor':\n",
        "        model = RandomForestRegressor(n_estimators=100, random_state=42)\n",
        "        model.fit(X_train, y_train)\n",
        "        y_pred = model.predict(X_test)\n",
        "        mse = mean_squared_error(y_test, y_pred)\n",
        "        return f\"MSE: {mse}\"\n",
        "    elif model_name == 'Linear Regression':\n",
        "        model = LinearRegression()\n",
        "        model.fit(X_train, y_train)\n",
        "        y_pred = model.predict(X_test)\n",
        "        mse = mean_squared_error(y_test, y_pred)\n",
        "        return f\"MSE: {mse}\"\n",
        "\n",
        "\n",
        "\n",
        "# Initialize a list to store futures\n",
        "futures = []\n",
        "\n",
        "for model_name in models.keys():\n",
        "    future = train_and_evaluate_model.remote(model_name, X_train, y_train, X_test, y_test)\n",
        "    futures.append(future)\n",
        "\n",
        "results = ray.get(futures)\n",
        "\n",
        "time_delta = time.time() - start_time\n",
        "\n",
        "for model_name, result in zip(models.keys(), results):\n",
        "    print(f\"Test results for {model_name}: {result}\")\n",
        "\n",
        "print(\"Run time:\", time_delta)\n",
        "\n",
        "# Shutdown Ray\n",
        "ray.shutdown()\n"
      ],
      "metadata": {
        "colab": {
          "base_uri": "https://localhost:8080/"
        },
        "id": "B-u51vJO9Hv5",
        "outputId": "1bf0da86-70d9-456c-def0-d08a247ba532"
      },
      "execution_count": null,
      "outputs": [
        {
          "output_type": "stream",
          "name": "stderr",
          "text": [
            "2024-07-11 09:16:31,753\tINFO worker.py:1788 -- Started a local Ray instance.\n"
          ]
        },
        {
          "output_type": "stream",
          "name": "stdout",
          "text": [
            "Test results for Random Forest Regressor: MSE: 0.2553684927247781\n",
            "Test results for Linear Regression: MSE: 0.5558915986952422\n",
            "Run time: 16.284026861190796\n"
          ]
        }
      ]
    },
    {
      "cell_type": "markdown",
      "source": [
        "Note: Run time: 16.7s"
      ],
      "metadata": {
        "id": "_TN0sh4dEqiN"
      }
    },
    {
      "cell_type": "markdown",
      "source": [
        "Second Dataset (73399 rows × 317 columns)\n",
        "---"
      ],
      "metadata": {
        "id": "JU2PXwna8d0h"
      }
    },
    {
      "cell_type": "markdown",
      "source": [
        "Paralel\n",
        "- - -"
      ],
      "metadata": {
        "id": "Rdq1cg89aSAG"
      }
    },
    {
      "cell_type": "code",
      "source": [
        "# Initialize Ray\n",
        "ray.init(ignore_reinit_error=True)\n",
        "\n",
        "X = merged_data.drop(columns='Employed')\n",
        "y = merged_data['Employed']\n",
        "\n",
        "X_train, X_test, y_train, y_test = train_test_split(X, y, test_size=0.2, random_state=42)\n",
        "\n",
        "models = {\n",
        "    'Random Forest': RandomForestClassifier(random_state=42),\n",
        "    'Logistic Regression': LogisticRegression(max_iter=200, random_state=42)\n",
        "}\n",
        "\n",
        "start_time = time.time()\n",
        "\n",
        "@ray.remote\n",
        "def train_and_evaluate_model(model_name, X_train, y_train, X_test, y_test):\n",
        "    if model_name == 'Random Forest':\n",
        "        model = RandomForestClassifier(random_state=42)\n",
        "    elif model_name == 'Logistic Regression':\n",
        "        model = LogisticRegression(max_iter=200, random_state=42)\n",
        "\n",
        "    model.fit(X_train, y_train)\n",
        "\n",
        "    y_pred = model.predict(X_test)\n",
        "    accuracy = accuracy_score(y_test, y_pred)\n",
        "\n",
        "    return accuracy\n",
        "\n",
        "# Initialize a list to store futures\n",
        "futures = []\n",
        "\n",
        "for model_name in models.keys():\n",
        "    future = train_and_evaluate_model.remote(model_name, X_train, y_train, X_test, y_test)\n",
        "    futures.append(future)\n",
        "\n",
        "results = ray.get(futures)\n",
        "\n",
        "time_delta = time.time() - start_time\n",
        "\n",
        "for model_name, score in zip(models.keys(), results):\n",
        "    print(f\"Test Accuracy for {model_name}: {score}\")\n",
        "\n",
        "print(\"Run time:\", time_delta)\n",
        "# Shutdown Ray\n",
        "ray.shutdown()"
      ],
      "metadata": {
        "colab": {
          "base_uri": "https://localhost:8080/"
        },
        "id": "1z4nUW56VCpY",
        "outputId": "1726aa6f-7b18-41da-a3e4-96c61281776d"
      },
      "execution_count": null,
      "outputs": [
        {
          "output_type": "stream",
          "name": "stderr",
          "text": [
            "2024-07-11 02:56:05,202\tINFO worker.py:1779 -- Started a local Ray instance. View the dashboard at \u001b[1m\u001b[32m127.0.0.1:8265 \u001b[39m\u001b[22m\n"
          ]
        },
        {
          "output_type": "stream",
          "name": "stdout",
          "text": [
            "Test Accuracy for Random Forest: 0.9402588555858311\n",
            "Test Accuracy for Logistic Regression: 0.6722070844686648\n",
            "Run time: 35.52976417541504\n"
          ]
        }
      ]
    },
    {
      "cell_type": "markdown",
      "source": [
        "Note: Run time: 35s"
      ],
      "metadata": {
        "id": "WeBivZCHuOsr"
      }
    },
    {
      "cell_type": "markdown",
      "source": [
        "Sequential\n",
        "- - -"
      ],
      "metadata": {
        "id": "mgajjco1VHf0"
      }
    },
    {
      "cell_type": "code",
      "source": [
        "X = merged_data.drop(columns='Employed')\n",
        "y = merged_data['Employed']\n",
        "\n",
        "X_train, X_test, y_train, y_test = train_test_split(X, y, test_size=0.2, random_state=42)\n",
        "\n",
        "models = {\n",
        "    'Random Forest': RandomForestClassifier(random_state=42),\n",
        "    'Logistic Regression': LogisticRegression(max_iter=200, random_state=42)\n",
        "}\n",
        "\n",
        "start_time = time.time()\n",
        "\n",
        "results = {}\n",
        "\n",
        "for model_name, model in models.items():\n",
        "    model.fit(X_train, y_train)\n",
        "\n",
        "    y_pred = model.predict(X_test)\n",
        "    accuracy = accuracy_score(y_test, y_pred)\n",
        "    results[model_name] = accuracy\n",
        "\n",
        "time_delta = time.time() - start_time\n",
        "\n",
        "for model_name, score in results.items():\n",
        "    print(f\"Test Accuracy for {model_name}: {score}\")\n",
        "\n",
        "print(\"Run time:\", time_delta)\n"
      ],
      "metadata": {
        "colab": {
          "base_uri": "https://localhost:8080/"
        },
        "id": "LF2rfvEdVK0L",
        "outputId": "0f11f7de-a013-45e7-ee79-777caecfdc5b"
      },
      "execution_count": null,
      "outputs": [
        {
          "output_type": "stream",
          "name": "stdout",
          "text": [
            "Test Accuracy for Random Forest: 0.9402588555858311\n",
            "Test Accuracy for Logistic Regression: 0.6722070844686648\n",
            "Run time: 49.34344124794006\n"
          ]
        }
      ]
    },
    {
      "cell_type": "markdown",
      "source": [
        "Note: Run time: 49s"
      ],
      "metadata": {
        "id": "F_vSFhQ9uRd8"
      }
    },
    {
      "cell_type": "markdown",
      "source": [
        "Third Dataset (581012 rows × 54 columns)\n",
        "---"
      ],
      "metadata": {
        "id": "UoRjU5v-wugQ"
      }
    },
    {
      "cell_type": "markdown",
      "source": [
        "Paralel\n",
        "- - -"
      ],
      "metadata": {
        "id": "TG6DIG4-wzBP"
      }
    },
    {
      "cell_type": "code",
      "source": [
        "from sklearn.datasets import fetch_covtype\n",
        "\n",
        "# Initialize Ray\n",
        "ray.init(ignore_reinit_error=True)\n",
        "\n",
        "# Load the dataset\n",
        "data = fetch_covtype()\n",
        "X = data.data\n",
        "y = data.target\n",
        "\n",
        "X_train, X_test, y_train, y_test = train_test_split(X, y, test_size=0.2, random_state=42)\n",
        "\n",
        "models = {\n",
        "    'Random Forest': RandomForestClassifier(random_state=42),\n",
        "    'Logistic Regression': LogisticRegression(max_iter=200, random_state=42)\n",
        "}\n",
        "\n",
        "start_time = time.time()\n",
        "\n",
        "@ray.remote\n",
        "def train_and_evaluate_model(model_name, X_train, y_train, X_test, y_test):\n",
        "    if model_name == 'Random Forest':\n",
        "        model = RandomForestClassifier(random_state=42)\n",
        "    elif model_name == 'Logistic Regression':\n",
        "        model = LogisticRegression(max_iter=200, random_state=42)\n",
        "\n",
        "    model.fit(X_train, y_train)\n",
        "\n",
        "    y_pred = model.predict(X_test)\n",
        "    accuracy = accuracy_score(y_test, y_pred)\n",
        "\n",
        "    return accuracy\n",
        "\n",
        "# Initialize a list to store futures\n",
        "futures = []\n",
        "\n",
        "for model_name in models.keys():\n",
        "    future = train_and_evaluate_model.remote(model_name, X_train, y_train, X_test, y_test)\n",
        "    futures.append(future)\n",
        "\n",
        "results = ray.get(futures)\n",
        "\n",
        "time_delta = time.time() - start_time\n",
        "\n",
        "for model_name, score in zip(models.keys(), results):\n",
        "    print(f\"Test Accuracy for {model_name}: {score}\")\n",
        "\n",
        "print(\"Run time:\", time_delta)\n",
        "\n",
        "# Shutdown Ray\n",
        "ray.shutdown()\n"
      ],
      "metadata": {
        "colab": {
          "base_uri": "https://localhost:8080/"
        },
        "id": "7YIQYwSQmK_I",
        "outputId": "71fc58b0-59d2-44a9-b21b-f2e2cbdbedc8"
      },
      "execution_count": null,
      "outputs": [
        {
          "output_type": "stream",
          "name": "stderr",
          "text": [
            "2024-07-11 02:57:38,732\tINFO worker.py:1779 -- Started a local Ray instance. View the dashboard at \u001b[1m\u001b[32m127.0.0.1:8265 \u001b[39m\u001b[22m\n",
            "\u001b[36m(train_and_evaluate_model pid=23755)\u001b[0m /usr/local/lib/python3.10/dist-packages/sklearn/linear_model/_logistic.py:458: ConvergenceWarning: lbfgs failed to converge (status=1):\n",
            "\u001b[36m(train_and_evaluate_model pid=23755)\u001b[0m STOP: TOTAL NO. of ITERATIONS REACHED LIMIT.\n",
            "\u001b[36m(train_and_evaluate_model pid=23755)\u001b[0m \n",
            "\u001b[36m(train_and_evaluate_model pid=23755)\u001b[0m Increase the number of iterations (max_iter) or scale the data as shown in:\n",
            "\u001b[36m(train_and_evaluate_model pid=23755)\u001b[0m     https://scikit-learn.org/stable/modules/preprocessing.html\n",
            "\u001b[36m(train_and_evaluate_model pid=23755)\u001b[0m Please also refer to the documentation for alternative solver options:\n",
            "\u001b[36m(train_and_evaluate_model pid=23755)\u001b[0m     https://scikit-learn.org/stable/modules/linear_model.html#logistic-regression\n",
            "\u001b[36m(train_and_evaluate_model pid=23755)\u001b[0m   n_iter_i = _check_optimize_result(\n"
          ]
        },
        {
          "output_type": "stream",
          "name": "stdout",
          "text": [
            "Test Accuracy for Random Forest: 0.9551646687262807\n",
            "Test Accuracy for Logistic Regression: 0.6462655869469807\n",
            "Run time: 247.074312210083\n"
          ]
        }
      ]
    },
    {
      "cell_type": "markdown",
      "source": [
        "Note : Run time: 247s"
      ],
      "metadata": {
        "id": "XfiGNS2EqInY"
      }
    },
    {
      "cell_type": "markdown",
      "source": [
        "Serial\n",
        "- - -"
      ],
      "metadata": {
        "id": "BM4WDPoJ2VVi"
      }
    },
    {
      "cell_type": "code",
      "source": [
        "import time\n",
        "import numpy as np\n",
        "from sklearn.linear_model import LogisticRegression\n",
        "from sklearn.datasets import fetch_covtype\n",
        "from sklearn.model_selection import train_test_split\n",
        "from sklearn.metrics import accuracy_score\n",
        "from sklearn.ensemble import RandomForestClassifier\n",
        "\n",
        "# Load the dataset\n",
        "data = fetch_covtype()\n",
        "X = data.data\n",
        "y = data.target\n",
        "\n",
        "X_train, X_test, y_train, y_test = train_test_split(X, y, test_size=0.2, random_state=42)\n",
        "\n",
        "models = {\n",
        "    'Random Forest': RandomForestClassifier(random_state=42),\n",
        "    'Logistic Regression': LogisticRegression(max_iter=200, random_state=42)\n",
        "}\n",
        "\n",
        "start_time = time.time()\n",
        "\n",
        "# Dictionary to store results\n",
        "results = {}\n",
        "\n",
        "for model_name, model in models.items():\n",
        "    model.fit(X_train, y_train)\n",
        "\n",
        "    y_pred = model.predict(X_test)\n",
        "    accuracy = accuracy_score(y_test, y_pred)\n",
        "    results[model_name] = accuracy\n",
        "\n",
        "time_delta = time.time() - start_time\n",
        "\n",
        "for model_name, score in results.items():\n",
        "    print(f\"Test Accuracy for {model_name}: {score}\")\n",
        "\n",
        "print(\"Run time:\", time_delta)"
      ],
      "metadata": {
        "colab": {
          "base_uri": "https://localhost:8080/"
        },
        "id": "Ht1x9f2Wxgtu",
        "outputId": "c342b44a-f808-4d03-8735-651b99a5b485"
      },
      "execution_count": null,
      "outputs": [
        {
          "output_type": "stream",
          "name": "stdout",
          "text": [
            "Test Accuracy for Random Forest: 0.9551646687262807\n",
            "Test Accuracy for Logistic Regression: 0.6450005593659371\n",
            "Run time: 258.74831223487854\n"
          ]
        },
        {
          "output_type": "stream",
          "name": "stderr",
          "text": [
            "/usr/local/lib/python3.10/dist-packages/sklearn/linear_model/_logistic.py:458: ConvergenceWarning: lbfgs failed to converge (status=1):\n",
            "STOP: TOTAL NO. of ITERATIONS REACHED LIMIT.\n",
            "\n",
            "Increase the number of iterations (max_iter) or scale the data as shown in:\n",
            "    https://scikit-learn.org/stable/modules/preprocessing.html\n",
            "Please also refer to the documentation for alternative solver options:\n",
            "    https://scikit-learn.org/stable/modules/linear_model.html#logistic-regression\n",
            "  n_iter_i = _check_optimize_result(\n"
          ]
        }
      ]
    },
    {
      "cell_type": "markdown",
      "source": [
        "Note : Run time: 259s"
      ],
      "metadata": {
        "id": "6ER4TcgwrPuL"
      }
    },
    {
      "cell_type": "markdown",
      "source": [
        "# Hasil Run time for Comparing Models\n",
        "\n",
        "| Data | Dimension | Using Ray (s) | Serial (s) | Perbandingan | Peningkatan (%) |\n",
        "|:----------:|:----------:|:----------:|:----------:|:----------:|:----------:|\n",
        "| california_housing |20.640 rows × 8 columns  | 16.7 | 14.08 | 1.186x | -18.6 |\n",
        "| job_application |73399 rows × 317 columns | 35 | 49 | 0.7x | 28.6 |\n",
        "| covtype |581012 rows × 54 columns | 247 | 259 | 0.95x | 4.6 |"
      ],
      "metadata": {
        "id": "87DPhR88t9jE"
      }
    },
    {
      "cell_type": "markdown",
      "source": [
        "# Ray for Data Prepocessing"
      ],
      "metadata": {
        "id": "b8SOJD9ZVoI_"
      }
    },
    {
      "cell_type": "code",
      "source": [
        "import ray\n",
        "import pandas as pd\n",
        "\n",
        "\n",
        "ray.init()\n",
        "\n",
        "@ray.remote\n",
        "def process_chunk(chunk):\n",
        "    # Proses data pada chunk\n",
        "    chunk['processed'] = chunk['value'] * 2\n",
        "    return chunk\n",
        "\n",
        "\n",
        "data = pd.DataFrame({\n",
        "    'id': range(100),\n",
        "    'value': np.random.randint(1, 100, size=100)\n",
        "})\n",
        "\n",
        "chunks = np.array_split(data, 10)\n",
        "\n",
        "result_ids = [process_chunk.remote(chunk) for chunk in chunks]\n",
        "results = ray.get(result_ids)\n",
        "\n",
        "final_result = pd.concat(results)\n",
        "\n",
        "ray.shutdown()"
      ],
      "metadata": {
        "id": "qaNCFSo-i-_i",
        "colab": {
          "base_uri": "https://localhost:8080/"
        },
        "outputId": "687b312e-75fe-4374-82d8-cd618d8b8ccd"
      },
      "execution_count": null,
      "outputs": [
        {
          "output_type": "stream",
          "name": "stderr",
          "text": [
            "2024-07-11 04:17:26,188\tINFO worker.py:1779 -- Started a local Ray instance. View the dashboard at \u001b[1m\u001b[32m127.0.0.1:8265 \u001b[39m\u001b[22m\n"
          ]
        }
      ]
    },
    {
      "cell_type": "code",
      "source": [
        "data.head()"
      ],
      "metadata": {
        "colab": {
          "base_uri": "https://localhost:8080/",
          "height": 206
        },
        "id": "lJ2h-9yRAiEr",
        "outputId": "e381cbdb-9d60-4a45-f1c7-81d3ac3e8715"
      },
      "execution_count": null,
      "outputs": [
        {
          "output_type": "execute_result",
          "data": {
            "text/plain": [
              "   id  value\n",
              "0   0     31\n",
              "1   1     73\n",
              "2   2      6\n",
              "3   3     86\n",
              "4   4      6"
            ],
            "text/html": [
              "\n",
              "  <div id=\"df-1d59dc91-3b3e-491c-9441-b48681a580b1\" class=\"colab-df-container\">\n",
              "    <div>\n",
              "<style scoped>\n",
              "    .dataframe tbody tr th:only-of-type {\n",
              "        vertical-align: middle;\n",
              "    }\n",
              "\n",
              "    .dataframe tbody tr th {\n",
              "        vertical-align: top;\n",
              "    }\n",
              "\n",
              "    .dataframe thead th {\n",
              "        text-align: right;\n",
              "    }\n",
              "</style>\n",
              "<table border=\"1\" class=\"dataframe\">\n",
              "  <thead>\n",
              "    <tr style=\"text-align: right;\">\n",
              "      <th></th>\n",
              "      <th>id</th>\n",
              "      <th>value</th>\n",
              "    </tr>\n",
              "  </thead>\n",
              "  <tbody>\n",
              "    <tr>\n",
              "      <th>0</th>\n",
              "      <td>0</td>\n",
              "      <td>31</td>\n",
              "    </tr>\n",
              "    <tr>\n",
              "      <th>1</th>\n",
              "      <td>1</td>\n",
              "      <td>73</td>\n",
              "    </tr>\n",
              "    <tr>\n",
              "      <th>2</th>\n",
              "      <td>2</td>\n",
              "      <td>6</td>\n",
              "    </tr>\n",
              "    <tr>\n",
              "      <th>3</th>\n",
              "      <td>3</td>\n",
              "      <td>86</td>\n",
              "    </tr>\n",
              "    <tr>\n",
              "      <th>4</th>\n",
              "      <td>4</td>\n",
              "      <td>6</td>\n",
              "    </tr>\n",
              "  </tbody>\n",
              "</table>\n",
              "</div>\n",
              "    <div class=\"colab-df-buttons\">\n",
              "\n",
              "  <div class=\"colab-df-container\">\n",
              "    <button class=\"colab-df-convert\" onclick=\"convertToInteractive('df-1d59dc91-3b3e-491c-9441-b48681a580b1')\"\n",
              "            title=\"Convert this dataframe to an interactive table.\"\n",
              "            style=\"display:none;\">\n",
              "\n",
              "  <svg xmlns=\"http://www.w3.org/2000/svg\" height=\"24px\" viewBox=\"0 -960 960 960\">\n",
              "    <path d=\"M120-120v-720h720v720H120Zm60-500h600v-160H180v160Zm220 220h160v-160H400v160Zm0 220h160v-160H400v160ZM180-400h160v-160H180v160Zm440 0h160v-160H620v160ZM180-180h160v-160H180v160Zm440 0h160v-160H620v160Z\"/>\n",
              "  </svg>\n",
              "    </button>\n",
              "\n",
              "  <style>\n",
              "    .colab-df-container {\n",
              "      display:flex;\n",
              "      gap: 12px;\n",
              "    }\n",
              "\n",
              "    .colab-df-convert {\n",
              "      background-color: #E8F0FE;\n",
              "      border: none;\n",
              "      border-radius: 50%;\n",
              "      cursor: pointer;\n",
              "      display: none;\n",
              "      fill: #1967D2;\n",
              "      height: 32px;\n",
              "      padding: 0 0 0 0;\n",
              "      width: 32px;\n",
              "    }\n",
              "\n",
              "    .colab-df-convert:hover {\n",
              "      background-color: #E2EBFA;\n",
              "      box-shadow: 0px 1px 2px rgba(60, 64, 67, 0.3), 0px 1px 3px 1px rgba(60, 64, 67, 0.15);\n",
              "      fill: #174EA6;\n",
              "    }\n",
              "\n",
              "    .colab-df-buttons div {\n",
              "      margin-bottom: 4px;\n",
              "    }\n",
              "\n",
              "    [theme=dark] .colab-df-convert {\n",
              "      background-color: #3B4455;\n",
              "      fill: #D2E3FC;\n",
              "    }\n",
              "\n",
              "    [theme=dark] .colab-df-convert:hover {\n",
              "      background-color: #434B5C;\n",
              "      box-shadow: 0px 1px 3px 1px rgba(0, 0, 0, 0.15);\n",
              "      filter: drop-shadow(0px 1px 2px rgba(0, 0, 0, 0.3));\n",
              "      fill: #FFFFFF;\n",
              "    }\n",
              "  </style>\n",
              "\n",
              "    <script>\n",
              "      const buttonEl =\n",
              "        document.querySelector('#df-1d59dc91-3b3e-491c-9441-b48681a580b1 button.colab-df-convert');\n",
              "      buttonEl.style.display =\n",
              "        google.colab.kernel.accessAllowed ? 'block' : 'none';\n",
              "\n",
              "      async function convertToInteractive(key) {\n",
              "        const element = document.querySelector('#df-1d59dc91-3b3e-491c-9441-b48681a580b1');\n",
              "        const dataTable =\n",
              "          await google.colab.kernel.invokeFunction('convertToInteractive',\n",
              "                                                    [key], {});\n",
              "        if (!dataTable) return;\n",
              "\n",
              "        const docLinkHtml = 'Like what you see? Visit the ' +\n",
              "          '<a target=\"_blank\" href=https://colab.research.google.com/notebooks/data_table.ipynb>data table notebook</a>'\n",
              "          + ' to learn more about interactive tables.';\n",
              "        element.innerHTML = '';\n",
              "        dataTable['output_type'] = 'display_data';\n",
              "        await google.colab.output.renderOutput(dataTable, element);\n",
              "        const docLink = document.createElement('div');\n",
              "        docLink.innerHTML = docLinkHtml;\n",
              "        element.appendChild(docLink);\n",
              "      }\n",
              "    </script>\n",
              "  </div>\n",
              "\n",
              "\n",
              "<div id=\"df-1665c7f5-4dc9-42a6-a866-58fb73bea687\">\n",
              "  <button class=\"colab-df-quickchart\" onclick=\"quickchart('df-1665c7f5-4dc9-42a6-a866-58fb73bea687')\"\n",
              "            title=\"Suggest charts\"\n",
              "            style=\"display:none;\">\n",
              "\n",
              "<svg xmlns=\"http://www.w3.org/2000/svg\" height=\"24px\"viewBox=\"0 0 24 24\"\n",
              "     width=\"24px\">\n",
              "    <g>\n",
              "        <path d=\"M19 3H5c-1.1 0-2 .9-2 2v14c0 1.1.9 2 2 2h14c1.1 0 2-.9 2-2V5c0-1.1-.9-2-2-2zM9 17H7v-7h2v7zm4 0h-2V7h2v10zm4 0h-2v-4h2v4z\"/>\n",
              "    </g>\n",
              "</svg>\n",
              "  </button>\n",
              "\n",
              "<style>\n",
              "  .colab-df-quickchart {\n",
              "      --bg-color: #E8F0FE;\n",
              "      --fill-color: #1967D2;\n",
              "      --hover-bg-color: #E2EBFA;\n",
              "      --hover-fill-color: #174EA6;\n",
              "      --disabled-fill-color: #AAA;\n",
              "      --disabled-bg-color: #DDD;\n",
              "  }\n",
              "\n",
              "  [theme=dark] .colab-df-quickchart {\n",
              "      --bg-color: #3B4455;\n",
              "      --fill-color: #D2E3FC;\n",
              "      --hover-bg-color: #434B5C;\n",
              "      --hover-fill-color: #FFFFFF;\n",
              "      --disabled-bg-color: #3B4455;\n",
              "      --disabled-fill-color: #666;\n",
              "  }\n",
              "\n",
              "  .colab-df-quickchart {\n",
              "    background-color: var(--bg-color);\n",
              "    border: none;\n",
              "    border-radius: 50%;\n",
              "    cursor: pointer;\n",
              "    display: none;\n",
              "    fill: var(--fill-color);\n",
              "    height: 32px;\n",
              "    padding: 0;\n",
              "    width: 32px;\n",
              "  }\n",
              "\n",
              "  .colab-df-quickchart:hover {\n",
              "    background-color: var(--hover-bg-color);\n",
              "    box-shadow: 0 1px 2px rgba(60, 64, 67, 0.3), 0 1px 3px 1px rgba(60, 64, 67, 0.15);\n",
              "    fill: var(--button-hover-fill-color);\n",
              "  }\n",
              "\n",
              "  .colab-df-quickchart-complete:disabled,\n",
              "  .colab-df-quickchart-complete:disabled:hover {\n",
              "    background-color: var(--disabled-bg-color);\n",
              "    fill: var(--disabled-fill-color);\n",
              "    box-shadow: none;\n",
              "  }\n",
              "\n",
              "  .colab-df-spinner {\n",
              "    border: 2px solid var(--fill-color);\n",
              "    border-color: transparent;\n",
              "    border-bottom-color: var(--fill-color);\n",
              "    animation:\n",
              "      spin 1s steps(1) infinite;\n",
              "  }\n",
              "\n",
              "  @keyframes spin {\n",
              "    0% {\n",
              "      border-color: transparent;\n",
              "      border-bottom-color: var(--fill-color);\n",
              "      border-left-color: var(--fill-color);\n",
              "    }\n",
              "    20% {\n",
              "      border-color: transparent;\n",
              "      border-left-color: var(--fill-color);\n",
              "      border-top-color: var(--fill-color);\n",
              "    }\n",
              "    30% {\n",
              "      border-color: transparent;\n",
              "      border-left-color: var(--fill-color);\n",
              "      border-top-color: var(--fill-color);\n",
              "      border-right-color: var(--fill-color);\n",
              "    }\n",
              "    40% {\n",
              "      border-color: transparent;\n",
              "      border-right-color: var(--fill-color);\n",
              "      border-top-color: var(--fill-color);\n",
              "    }\n",
              "    60% {\n",
              "      border-color: transparent;\n",
              "      border-right-color: var(--fill-color);\n",
              "    }\n",
              "    80% {\n",
              "      border-color: transparent;\n",
              "      border-right-color: var(--fill-color);\n",
              "      border-bottom-color: var(--fill-color);\n",
              "    }\n",
              "    90% {\n",
              "      border-color: transparent;\n",
              "      border-bottom-color: var(--fill-color);\n",
              "    }\n",
              "  }\n",
              "</style>\n",
              "\n",
              "  <script>\n",
              "    async function quickchart(key) {\n",
              "      const quickchartButtonEl =\n",
              "        document.querySelector('#' + key + ' button');\n",
              "      quickchartButtonEl.disabled = true;  // To prevent multiple clicks.\n",
              "      quickchartButtonEl.classList.add('colab-df-spinner');\n",
              "      try {\n",
              "        const charts = await google.colab.kernel.invokeFunction(\n",
              "            'suggestCharts', [key], {});\n",
              "      } catch (error) {\n",
              "        console.error('Error during call to suggestCharts:', error);\n",
              "      }\n",
              "      quickchartButtonEl.classList.remove('colab-df-spinner');\n",
              "      quickchartButtonEl.classList.add('colab-df-quickchart-complete');\n",
              "    }\n",
              "    (() => {\n",
              "      let quickchartButtonEl =\n",
              "        document.querySelector('#df-1665c7f5-4dc9-42a6-a866-58fb73bea687 button');\n",
              "      quickchartButtonEl.style.display =\n",
              "        google.colab.kernel.accessAllowed ? 'block' : 'none';\n",
              "    })();\n",
              "  </script>\n",
              "</div>\n",
              "\n",
              "    </div>\n",
              "  </div>\n"
            ],
            "application/vnd.google.colaboratory.intrinsic+json": {
              "type": "dataframe",
              "variable_name": "data",
              "summary": "{\n  \"name\": \"data\",\n  \"rows\": 100,\n  \"fields\": [\n    {\n      \"column\": \"id\",\n      \"properties\": {\n        \"dtype\": \"number\",\n        \"std\": 29,\n        \"min\": 0,\n        \"max\": 99,\n        \"num_unique_values\": 100,\n        \"samples\": [\n          83,\n          53,\n          70\n        ],\n        \"semantic_type\": \"\",\n        \"description\": \"\"\n      }\n    },\n    {\n      \"column\": \"value\",\n      \"properties\": {\n        \"dtype\": \"number\",\n        \"std\": 27,\n        \"min\": 1,\n        \"max\": 99,\n        \"num_unique_values\": 61,\n        \"samples\": [\n          31,\n          96,\n          1\n        ],\n        \"semantic_type\": \"\",\n        \"description\": \"\"\n      }\n    }\n  ]\n}"
            }
          },
          "metadata": {},
          "execution_count": 39
        }
      ]
    },
    {
      "cell_type": "code",
      "source": [
        "final_result.head()"
      ],
      "metadata": {
        "colab": {
          "base_uri": "https://localhost:8080/",
          "height": 206
        },
        "id": "Am5mjD70APvs",
        "outputId": "4bcbfbb6-71a1-4348-f599-6f5062f7cac4"
      },
      "execution_count": null,
      "outputs": [
        {
          "output_type": "execute_result",
          "data": {
            "text/plain": [
              "   id  value  processed\n",
              "0   0     31         62\n",
              "1   1     73        146\n",
              "2   2      6         12\n",
              "3   3     86        172\n",
              "4   4      6         12"
            ],
            "text/html": [
              "\n",
              "  <div id=\"df-c2af360d-3fc5-45b4-a261-2aac52370dda\" class=\"colab-df-container\">\n",
              "    <div>\n",
              "<style scoped>\n",
              "    .dataframe tbody tr th:only-of-type {\n",
              "        vertical-align: middle;\n",
              "    }\n",
              "\n",
              "    .dataframe tbody tr th {\n",
              "        vertical-align: top;\n",
              "    }\n",
              "\n",
              "    .dataframe thead th {\n",
              "        text-align: right;\n",
              "    }\n",
              "</style>\n",
              "<table border=\"1\" class=\"dataframe\">\n",
              "  <thead>\n",
              "    <tr style=\"text-align: right;\">\n",
              "      <th></th>\n",
              "      <th>id</th>\n",
              "      <th>value</th>\n",
              "      <th>processed</th>\n",
              "    </tr>\n",
              "  </thead>\n",
              "  <tbody>\n",
              "    <tr>\n",
              "      <th>0</th>\n",
              "      <td>0</td>\n",
              "      <td>31</td>\n",
              "      <td>62</td>\n",
              "    </tr>\n",
              "    <tr>\n",
              "      <th>1</th>\n",
              "      <td>1</td>\n",
              "      <td>73</td>\n",
              "      <td>146</td>\n",
              "    </tr>\n",
              "    <tr>\n",
              "      <th>2</th>\n",
              "      <td>2</td>\n",
              "      <td>6</td>\n",
              "      <td>12</td>\n",
              "    </tr>\n",
              "    <tr>\n",
              "      <th>3</th>\n",
              "      <td>3</td>\n",
              "      <td>86</td>\n",
              "      <td>172</td>\n",
              "    </tr>\n",
              "    <tr>\n",
              "      <th>4</th>\n",
              "      <td>4</td>\n",
              "      <td>6</td>\n",
              "      <td>12</td>\n",
              "    </tr>\n",
              "  </tbody>\n",
              "</table>\n",
              "</div>\n",
              "    <div class=\"colab-df-buttons\">\n",
              "\n",
              "  <div class=\"colab-df-container\">\n",
              "    <button class=\"colab-df-convert\" onclick=\"convertToInteractive('df-c2af360d-3fc5-45b4-a261-2aac52370dda')\"\n",
              "            title=\"Convert this dataframe to an interactive table.\"\n",
              "            style=\"display:none;\">\n",
              "\n",
              "  <svg xmlns=\"http://www.w3.org/2000/svg\" height=\"24px\" viewBox=\"0 -960 960 960\">\n",
              "    <path d=\"M120-120v-720h720v720H120Zm60-500h600v-160H180v160Zm220 220h160v-160H400v160Zm0 220h160v-160H400v160ZM180-400h160v-160H180v160Zm440 0h160v-160H620v160ZM180-180h160v-160H180v160Zm440 0h160v-160H620v160Z\"/>\n",
              "  </svg>\n",
              "    </button>\n",
              "\n",
              "  <style>\n",
              "    .colab-df-container {\n",
              "      display:flex;\n",
              "      gap: 12px;\n",
              "    }\n",
              "\n",
              "    .colab-df-convert {\n",
              "      background-color: #E8F0FE;\n",
              "      border: none;\n",
              "      border-radius: 50%;\n",
              "      cursor: pointer;\n",
              "      display: none;\n",
              "      fill: #1967D2;\n",
              "      height: 32px;\n",
              "      padding: 0 0 0 0;\n",
              "      width: 32px;\n",
              "    }\n",
              "\n",
              "    .colab-df-convert:hover {\n",
              "      background-color: #E2EBFA;\n",
              "      box-shadow: 0px 1px 2px rgba(60, 64, 67, 0.3), 0px 1px 3px 1px rgba(60, 64, 67, 0.15);\n",
              "      fill: #174EA6;\n",
              "    }\n",
              "\n",
              "    .colab-df-buttons div {\n",
              "      margin-bottom: 4px;\n",
              "    }\n",
              "\n",
              "    [theme=dark] .colab-df-convert {\n",
              "      background-color: #3B4455;\n",
              "      fill: #D2E3FC;\n",
              "    }\n",
              "\n",
              "    [theme=dark] .colab-df-convert:hover {\n",
              "      background-color: #434B5C;\n",
              "      box-shadow: 0px 1px 3px 1px rgba(0, 0, 0, 0.15);\n",
              "      filter: drop-shadow(0px 1px 2px rgba(0, 0, 0, 0.3));\n",
              "      fill: #FFFFFF;\n",
              "    }\n",
              "  </style>\n",
              "\n",
              "    <script>\n",
              "      const buttonEl =\n",
              "        document.querySelector('#df-c2af360d-3fc5-45b4-a261-2aac52370dda button.colab-df-convert');\n",
              "      buttonEl.style.display =\n",
              "        google.colab.kernel.accessAllowed ? 'block' : 'none';\n",
              "\n",
              "      async function convertToInteractive(key) {\n",
              "        const element = document.querySelector('#df-c2af360d-3fc5-45b4-a261-2aac52370dda');\n",
              "        const dataTable =\n",
              "          await google.colab.kernel.invokeFunction('convertToInteractive',\n",
              "                                                    [key], {});\n",
              "        if (!dataTable) return;\n",
              "\n",
              "        const docLinkHtml = 'Like what you see? Visit the ' +\n",
              "          '<a target=\"_blank\" href=https://colab.research.google.com/notebooks/data_table.ipynb>data table notebook</a>'\n",
              "          + ' to learn more about interactive tables.';\n",
              "        element.innerHTML = '';\n",
              "        dataTable['output_type'] = 'display_data';\n",
              "        await google.colab.output.renderOutput(dataTable, element);\n",
              "        const docLink = document.createElement('div');\n",
              "        docLink.innerHTML = docLinkHtml;\n",
              "        element.appendChild(docLink);\n",
              "      }\n",
              "    </script>\n",
              "  </div>\n",
              "\n",
              "\n",
              "<div id=\"df-430f4404-a456-40d7-8636-d8d50622e352\">\n",
              "  <button class=\"colab-df-quickchart\" onclick=\"quickchart('df-430f4404-a456-40d7-8636-d8d50622e352')\"\n",
              "            title=\"Suggest charts\"\n",
              "            style=\"display:none;\">\n",
              "\n",
              "<svg xmlns=\"http://www.w3.org/2000/svg\" height=\"24px\"viewBox=\"0 0 24 24\"\n",
              "     width=\"24px\">\n",
              "    <g>\n",
              "        <path d=\"M19 3H5c-1.1 0-2 .9-2 2v14c0 1.1.9 2 2 2h14c1.1 0 2-.9 2-2V5c0-1.1-.9-2-2-2zM9 17H7v-7h2v7zm4 0h-2V7h2v10zm4 0h-2v-4h2v4z\"/>\n",
              "    </g>\n",
              "</svg>\n",
              "  </button>\n",
              "\n",
              "<style>\n",
              "  .colab-df-quickchart {\n",
              "      --bg-color: #E8F0FE;\n",
              "      --fill-color: #1967D2;\n",
              "      --hover-bg-color: #E2EBFA;\n",
              "      --hover-fill-color: #174EA6;\n",
              "      --disabled-fill-color: #AAA;\n",
              "      --disabled-bg-color: #DDD;\n",
              "  }\n",
              "\n",
              "  [theme=dark] .colab-df-quickchart {\n",
              "      --bg-color: #3B4455;\n",
              "      --fill-color: #D2E3FC;\n",
              "      --hover-bg-color: #434B5C;\n",
              "      --hover-fill-color: #FFFFFF;\n",
              "      --disabled-bg-color: #3B4455;\n",
              "      --disabled-fill-color: #666;\n",
              "  }\n",
              "\n",
              "  .colab-df-quickchart {\n",
              "    background-color: var(--bg-color);\n",
              "    border: none;\n",
              "    border-radius: 50%;\n",
              "    cursor: pointer;\n",
              "    display: none;\n",
              "    fill: var(--fill-color);\n",
              "    height: 32px;\n",
              "    padding: 0;\n",
              "    width: 32px;\n",
              "  }\n",
              "\n",
              "  .colab-df-quickchart:hover {\n",
              "    background-color: var(--hover-bg-color);\n",
              "    box-shadow: 0 1px 2px rgba(60, 64, 67, 0.3), 0 1px 3px 1px rgba(60, 64, 67, 0.15);\n",
              "    fill: var(--button-hover-fill-color);\n",
              "  }\n",
              "\n",
              "  .colab-df-quickchart-complete:disabled,\n",
              "  .colab-df-quickchart-complete:disabled:hover {\n",
              "    background-color: var(--disabled-bg-color);\n",
              "    fill: var(--disabled-fill-color);\n",
              "    box-shadow: none;\n",
              "  }\n",
              "\n",
              "  .colab-df-spinner {\n",
              "    border: 2px solid var(--fill-color);\n",
              "    border-color: transparent;\n",
              "    border-bottom-color: var(--fill-color);\n",
              "    animation:\n",
              "      spin 1s steps(1) infinite;\n",
              "  }\n",
              "\n",
              "  @keyframes spin {\n",
              "    0% {\n",
              "      border-color: transparent;\n",
              "      border-bottom-color: var(--fill-color);\n",
              "      border-left-color: var(--fill-color);\n",
              "    }\n",
              "    20% {\n",
              "      border-color: transparent;\n",
              "      border-left-color: var(--fill-color);\n",
              "      border-top-color: var(--fill-color);\n",
              "    }\n",
              "    30% {\n",
              "      border-color: transparent;\n",
              "      border-left-color: var(--fill-color);\n",
              "      border-top-color: var(--fill-color);\n",
              "      border-right-color: var(--fill-color);\n",
              "    }\n",
              "    40% {\n",
              "      border-color: transparent;\n",
              "      border-right-color: var(--fill-color);\n",
              "      border-top-color: var(--fill-color);\n",
              "    }\n",
              "    60% {\n",
              "      border-color: transparent;\n",
              "      border-right-color: var(--fill-color);\n",
              "    }\n",
              "    80% {\n",
              "      border-color: transparent;\n",
              "      border-right-color: var(--fill-color);\n",
              "      border-bottom-color: var(--fill-color);\n",
              "    }\n",
              "    90% {\n",
              "      border-color: transparent;\n",
              "      border-bottom-color: var(--fill-color);\n",
              "    }\n",
              "  }\n",
              "</style>\n",
              "\n",
              "  <script>\n",
              "    async function quickchart(key) {\n",
              "      const quickchartButtonEl =\n",
              "        document.querySelector('#' + key + ' button');\n",
              "      quickchartButtonEl.disabled = true;  // To prevent multiple clicks.\n",
              "      quickchartButtonEl.classList.add('colab-df-spinner');\n",
              "      try {\n",
              "        const charts = await google.colab.kernel.invokeFunction(\n",
              "            'suggestCharts', [key], {});\n",
              "      } catch (error) {\n",
              "        console.error('Error during call to suggestCharts:', error);\n",
              "      }\n",
              "      quickchartButtonEl.classList.remove('colab-df-spinner');\n",
              "      quickchartButtonEl.classList.add('colab-df-quickchart-complete');\n",
              "    }\n",
              "    (() => {\n",
              "      let quickchartButtonEl =\n",
              "        document.querySelector('#df-430f4404-a456-40d7-8636-d8d50622e352 button');\n",
              "      quickchartButtonEl.style.display =\n",
              "        google.colab.kernel.accessAllowed ? 'block' : 'none';\n",
              "    })();\n",
              "  </script>\n",
              "</div>\n",
              "\n",
              "    </div>\n",
              "  </div>\n"
            ],
            "application/vnd.google.colaboratory.intrinsic+json": {
              "type": "dataframe",
              "variable_name": "final_result",
              "summary": "{\n  \"name\": \"final_result\",\n  \"rows\": 100,\n  \"fields\": [\n    {\n      \"column\": \"id\",\n      \"properties\": {\n        \"dtype\": \"number\",\n        \"std\": 29,\n        \"min\": 0,\n        \"max\": 99,\n        \"num_unique_values\": 100,\n        \"samples\": [\n          83,\n          53,\n          70\n        ],\n        \"semantic_type\": \"\",\n        \"description\": \"\"\n      }\n    },\n    {\n      \"column\": \"value\",\n      \"properties\": {\n        \"dtype\": \"number\",\n        \"std\": 27,\n        \"min\": 1,\n        \"max\": 99,\n        \"num_unique_values\": 61,\n        \"samples\": [\n          31,\n          96,\n          1\n        ],\n        \"semantic_type\": \"\",\n        \"description\": \"\"\n      }\n    },\n    {\n      \"column\": \"processed\",\n      \"properties\": {\n        \"dtype\": \"number\",\n        \"std\": 55,\n        \"min\": 2,\n        \"max\": 198,\n        \"num_unique_values\": 61,\n        \"samples\": [\n          62,\n          192,\n          2\n        ],\n        \"semantic_type\": \"\",\n        \"description\": \"\"\n      }\n    }\n  ]\n}"
            }
          },
          "metadata": {},
          "execution_count": 40
        }
      ]
    },
    {
      "cell_type": "code",
      "source": [],
      "metadata": {
        "id": "zmRAQxv9OKqZ"
      },
      "execution_count": null,
      "outputs": []
    },
    {
      "cell_type": "markdown",
      "source": [
        "# Conclusion\n",
        "\n",
        "### Kelebihan Ray\n",
        "1.   **Skalabiilitas**: Ray dirancang untuk menangani pemrosesan skala besar, memungkinkan untuk memanfaatkan banyak CPU dan GPU.\n",
        "2.   **Manajemen Sumber Daya**: Ray memungkinkan pengalokasian sumber daya yan efisien selama pemrosesan tugas.\n",
        "\n",
        "### Kekurangan Ray\n",
        "1.  **Overhead Komunikasi**: Untuk tugas yang relatif sederhana atau skala kecil, keuntungan Ray mungkin tidak sebanding dengan overhead yang dihasilkan, sehingga dalam kasus ini, solusi non-paralel mungkin lebih efisien.\n",
        "2.  **Kompleksitas Pengaturan**: Meskipun API nya sederhana, manajemen lingkungan eksekusi bisa jadi kompleks.\n",
        "\n",
        "\n",
        "Ray adalah alat yang kuat untuk meningkatkan efisiensi dan kecepatan pemrosesan dalam skala besar dan kompleks. Tapi, penggunaannya perlu dipertimbangkan dengan hati-hati berdasarkan jenis tugas yang ingin dieksekusi. Ray lebih tepat dipakai untuk tugas yang bisa dibagi menjadi bagian-bagian paralel yang perlu pemrosesan besar-besaran, tapi mungkin kurang efisien untuk tugas-tugas yang lebih sederhana atau kecil."
      ],
      "metadata": {
        "id": "oEIP1rtsGtrw"
      }
    }
  ]
}